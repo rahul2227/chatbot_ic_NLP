{
  "nbformat": 4,
  "nbformat_minor": 0,
  "metadata": {
    "colab": {
      "provenance": []
    },
    "kernelspec": {
      "name": "python3",
      "display_name": "Python 3"
    },
    "language_info": {
      "name": "python"
    }
  },
  "cells": [
    {
      "cell_type": "code",
      "source": [
        "pip install algoliasearch"
      ],
      "metadata": {
        "colab": {
          "base_uri": "https://localhost:8080/"
        },
        "id": "xtHJcrejIxRm",
        "outputId": "ffb0b594-28d4-43af-9baf-d4877246a37d"
      },
      "execution_count": 1,
      "outputs": [
        {
          "output_type": "stream",
          "name": "stdout",
          "text": [
            "Collecting algoliasearch\n",
            "  Downloading algoliasearch-3.0.0-py2.py3-none-any.whl (33 kB)\n",
            "Requirement already satisfied: requests<3.0,>=2.21 in /usr/local/lib/python3.10/dist-packages (from algoliasearch) (2.31.0)\n",
            "Requirement already satisfied: charset-normalizer<4,>=2 in /usr/local/lib/python3.10/dist-packages (from requests<3.0,>=2.21->algoliasearch) (3.3.2)\n",
            "Requirement already satisfied: idna<4,>=2.5 in /usr/local/lib/python3.10/dist-packages (from requests<3.0,>=2.21->algoliasearch) (3.6)\n",
            "Requirement already satisfied: urllib3<3,>=1.21.1 in /usr/local/lib/python3.10/dist-packages (from requests<3.0,>=2.21->algoliasearch) (2.0.7)\n",
            "Requirement already satisfied: certifi>=2017.4.17 in /usr/local/lib/python3.10/dist-packages (from requests<3.0,>=2.21->algoliasearch) (2023.11.17)\n",
            "Installing collected packages: algoliasearch\n",
            "Successfully installed algoliasearch-3.0.0\n"
          ]
        }
      ]
    },
    {
      "cell_type": "code",
      "execution_count": 4,
      "metadata": {
        "colab": {
          "base_uri": "https://localhost:8080/"
        },
        "id": "pTDp-TYeIgvG",
        "outputId": "3c2d5fd5-695e-401c-c606-3ef394a2d8f1"
      },
      "outputs": [
        {
          "output_type": "stream",
          "name": "stdout",
          "text": [
            "Enter your question: what is AFP\n",
            "Title: The use of forensic case data in intelligence-led policing: the example of drug profiling\n",
            "PMID: 23379982\n",
            "Abstract: To date, forensic science has predominantly focused on generating evidence for judicial proceedings. While many recognise its broader and important contribution to the initial stages of the forensic process, resources do not seem to be employed efficiently. It is often discovered retrospectively that necessary information was previously available in a database or within existing files. Such information could have been proactively used in order to solve a particular case, a number of linked cases or better understand the criminal activity as a whole. This article reviews this broader contribution of forensic science, with a particular emphasis on drug intelligence at the Australian Federal Police (AFP) in Australia. Using the AFP as a model organisation, an overview of the current situation and the contribution of physical and chemical profiling are first discussed. The situation in Europe, and in particular in Switzerland, is also presented. It is argued that a change of attitude towards a more intelligence-led perspective is required in forensic science in general, and in drug profiling in particular.\n",
            "Author: Marie Morelato\n",
            "\n",
            "---\n",
            "\n",
            "Title: The use of organic and inorganic impurities found in MDMA police seizures in a drug intelligence perspective\n",
            "PMID: 24438775\n",
            "Abstract: Traditional forensic drug profiling involves numerous analytical techniques, and the whole process is typically costly and may be time consuming. The aim of this study was to investigate the possibility of prioritising techniques utilised at the Australian Federal Police (AFP) for the chemical profiling of 3,4-methylenedioxymethylamphetamine (MDMA). The outcome would provide the AFP with the ability to obtain more timely and valuable results that could be used in an intelligence perspective. Correlation coefficients were used to obtain a similarity degree between a population of linked samples (within seizures) and a population of unlinked samples (between different seizures) and discrimination between the two populations was ultimately achieved. The results showed that gas chromatography-mass spectrometry (GC-MS) was well suited as a single technique to detect links between seizures and could be used in priority for operational intelligence purposes. Furthermore, the method was applied to seizures known or suspected (through their case information) to be linked to each other to assess the chemical similarity between samples. It was found that half of the seizures previously linked by the case number were also linked by the chemical profile. This procedure was also able to highlight links between cases that were previously unsuspected and retrospectively confirmed by circumstantial information. The findings are finally discussed in the broader forensic intelligence context, with a focus on how they could be successfully incorporated into investigations and in an intelligence-led policing perspective in order to understand trafficking markets.\n",
            "Author: Marie Morelato\n",
            "\n",
            "---\n",
            "\n",
            "[{'Title': 'The use of forensic case data in intelligence-led policing: the example of drug profiling', 'PMID': 23379982, 'Abstract': 'To date, forensic science has predominantly focused on generating evidence for judicial proceedings. While many recognise its broader and important contribution to the initial stages of the forensic process, resources do not seem to be employed efficiently. It is often discovered retrospectively that necessary information was previously available in a database or within existing files. Such information could have been proactively used in order to solve a particular case, a number of linked cases or better understand the criminal activity as a whole. This article reviews this broader contribution of forensic science, with a particular emphasis on drug intelligence at the Australian Federal Police (AFP) in Australia. Using the AFP as a model organisation, an overview of the current situation and the contribution of physical and chemical profiling are first discussed. The situation in Europe, and in particular in Switzerland, is also presented. It is argued that a change of attitude towards a more intelligence-led perspective is required in forensic science in general, and in drug profiling in particular.', 'Author': 'Marie Morelato'}, {'Title': 'The use of organic and inorganic impurities found in MDMA police seizures in a drug intelligence perspective', 'PMID': 24438775, 'Abstract': 'Traditional forensic drug profiling involves numerous analytical techniques, and the whole process is typically costly and may be time consuming. The aim of this study was to investigate the possibility of prioritising techniques utilised at the Australian Federal Police (AFP) for the chemical profiling of 3,4-methylenedioxymethylamphetamine (MDMA). The outcome would provide the AFP with the ability to obtain more timely and valuable results that could be used in an intelligence perspective. Correlation coefficients were used to obtain a similarity degree between a population of linked samples (within seizures) and a population of unlinked samples (between different seizures) and discrimination between the two populations was ultimately achieved. The results showed that gas chromatography-mass spectrometry (GC-MS) was well suited as a single technique to detect links between seizures and could be used in priority for operational intelligence purposes. Furthermore, the method was applied to seizures known or suspected (through their case information) to be linked to each other to assess the chemical similarity between samples. It was found that half of the seizures previously linked by the case number were also linked by the chemical profile. This procedure was also able to highlight links between cases that were previously unsuspected and retrospectively confirmed by circumstantial information. The findings are finally discussed in the broader forensic intelligence context, with a focus on how they could be successfully incorporated into investigations and in an intelligence-led policing perspective in order to understand trafficking markets.', 'Author': 'Marie Morelato'}]\n"
          ]
        }
      ],
      "source": [
        "#2013 pubmed dataset is uploaded\n",
        "from algoliasearch.search_client import SearchClient\n",
        "\n",
        "# Initialize Algolia client\n",
        "client = SearchClient.create('JX74VO3UVM', 'f4106b456c211320581cee32e746b620')\n",
        "index = client.init_index('NLP_QAsystem_with_BERT')\n",
        "\n",
        "def search_question(user_input):\n",
        "    # Perform a search\n",
        "    result = index.search(user_input)\n",
        "\n",
        "    # Process the result\n",
        "    hits = result['hits']\n",
        "    algolia_results=[]\n",
        "    for hit in hits:\n",
        "        print(f\"Title: {hit['Title']}\")\n",
        "        print(f\"PMID: {hit['PMID']}\")\n",
        "        print(f\"Abstract: {hit['Abstract']}\")\n",
        "        print(f\"Author: {hit['Author']}\")\n",
        "        print(\"\\n---\\n\")\n",
        "\n",
        "        # Corrected dictionary comprehension\n",
        "        res = {'Title': hit['Title'],'PMID': hit['PMID'],'Abstract': hit['Abstract'],'Author': hit['Author']}\n",
        "        algolia_results.append(res)\n",
        "    return algolia_results\n",
        "\n",
        "\n",
        "# Get user input\n",
        "user_input = input(\"Enter your question: \")\n",
        "\n",
        "# Perform the search\n",
        "context=search_question(user_input)\n",
        "print(context)\n",
        "\n",
        "\n",
        "\n"
      ]
    },
    {
      "cell_type": "code",
      "source": [],
      "metadata": {
        "id": "Bc6reZu0I9Ko"
      },
      "execution_count": null,
      "outputs": []
    }
  ]
}