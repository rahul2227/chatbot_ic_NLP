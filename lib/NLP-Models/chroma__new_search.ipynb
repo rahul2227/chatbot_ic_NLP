{
  "cells": [
    {
      "cell_type": "code",
      "execution_count": 1,
      "metadata": {
        "colab": {
          "base_uri": "https://localhost:8080/"
        },
        "id": "-pBdK3CEzC13",
        "outputId": "6187c1a3-ec5a-44e9-c1ec-5979bcfb7755"
      },
      "outputs": [
        {
          "name": "stdout",
          "output_type": "stream",
          "text": [
            "1620\n"
          ]
        }
      ],
      "source": [
        "import json\n",
        "\n",
        "# Specify the path to your JSON file\n",
        "json_file_path = '/Users/vasu/Desktop/project/chatbot_ic_NLP/lib/NLP-Models/2013pubmed.json'\n",
        "\n",
        "# Open the JSON file and load the data\n",
        "with open(json_file_path, 'r') as json_file:\n",
        "    dataset = json.load(json_file)\n",
        "\n",
        "# Print the loaded dataset\n",
        "print(len(dataset))"
      ]
    },
    {
      "cell_type": "code",
      "execution_count": 2,
      "metadata": {
        "id": "68kJcpXFzLd_"
      },
      "outputs": [
        {
          "name": "stdout",
          "output_type": "stream",
          "text": [
            "Note: you may need to restart the kernel to use updated packages.\n"
          ]
        }
      ],
      "source": [
        "%pip install -Uq chromadb numpy datasets"
      ]
    },
    {
      "cell_type": "code",
      "execution_count": 3,
      "metadata": {
        "id": "8hgCDdigzRKd"
      },
      "outputs": [],
      "source": [
        "# Import Chroma and instantiate a client. The default Chroma client is ephemeral, meaning it will not save to disk.\n",
        "import chromadb\n",
        "from chromadb import EmbeddingFunction\n",
        "\n",
        "client = chromadb.Client()"
      ]
    },
    {
      "cell_type": "code",
      "execution_count": 4,
      "metadata": {
        "id": "QhLBGdCQzYDU"
      },
      "outputs": [],
      "source": [
        "\n",
        "from chromadb.utils import embedding_functions"
      ]
    },
    {
      "cell_type": "code",
      "execution_count": 5,
      "metadata": {
        "id": "b6GezPhHzjr0"
      },
      "outputs": [
        {
          "name": "stdout",
          "output_type": "stream",
          "text": [
            "Requirement already satisfied: sentence_transformers in /Users/vasu/anaconda3/lib/python3.11/site-packages (2.2.2)\n",
            "Requirement already satisfied: transformers<5.0.0,>=4.6.0 in /Users/vasu/anaconda3/lib/python3.11/site-packages (from sentence_transformers) (4.36.2)\n",
            "Requirement already satisfied: tqdm in /Users/vasu/anaconda3/lib/python3.11/site-packages (from sentence_transformers) (4.65.0)\n",
            "Requirement already satisfied: torch>=1.6.0 in /Users/vasu/anaconda3/lib/python3.11/site-packages (from sentence_transformers) (2.1.2)\n",
            "Requirement already satisfied: torchvision in /Users/vasu/anaconda3/lib/python3.11/site-packages (from sentence_transformers) (0.16.2)\n",
            "Requirement already satisfied: numpy in /Users/vasu/anaconda3/lib/python3.11/site-packages (from sentence_transformers) (1.26.3)\n",
            "Requirement already satisfied: scikit-learn in /Users/vasu/anaconda3/lib/python3.11/site-packages (from sentence_transformers) (1.3.0)\n",
            "Requirement already satisfied: scipy in /Users/vasu/anaconda3/lib/python3.11/site-packages (from sentence_transformers) (1.11.1)\n",
            "Requirement already satisfied: nltk in /Users/vasu/anaconda3/lib/python3.11/site-packages (from sentence_transformers) (3.8.1)\n",
            "Requirement already satisfied: sentencepiece in /Users/vasu/anaconda3/lib/python3.11/site-packages (from sentence_transformers) (0.1.99)\n",
            "Requirement already satisfied: huggingface-hub>=0.4.0 in /Users/vasu/anaconda3/lib/python3.11/site-packages (from sentence_transformers) (0.20.2)\n",
            "Requirement already satisfied: filelock in /Users/vasu/anaconda3/lib/python3.11/site-packages (from huggingface-hub>=0.4.0->sentence_transformers) (3.9.0)\n",
            "Requirement already satisfied: fsspec>=2023.5.0 in /Users/vasu/anaconda3/lib/python3.11/site-packages (from huggingface-hub>=0.4.0->sentence_transformers) (2023.10.0)\n",
            "Requirement already satisfied: requests in /Users/vasu/anaconda3/lib/python3.11/site-packages (from huggingface-hub>=0.4.0->sentence_transformers) (2.31.0)\n",
            "Requirement already satisfied: pyyaml>=5.1 in /Users/vasu/anaconda3/lib/python3.11/site-packages (from huggingface-hub>=0.4.0->sentence_transformers) (6.0)\n",
            "Requirement already satisfied: typing-extensions>=3.7.4.3 in /Users/vasu/anaconda3/lib/python3.11/site-packages (from huggingface-hub>=0.4.0->sentence_transformers) (4.9.0)\n",
            "Requirement already satisfied: packaging>=20.9 in /Users/vasu/anaconda3/lib/python3.11/site-packages (from huggingface-hub>=0.4.0->sentence_transformers) (23.1)\n",
            "Requirement already satisfied: sympy in /Users/vasu/anaconda3/lib/python3.11/site-packages (from torch>=1.6.0->sentence_transformers) (1.11.1)\n",
            "Requirement already satisfied: networkx in /Users/vasu/anaconda3/lib/python3.11/site-packages (from torch>=1.6.0->sentence_transformers) (3.1)\n",
            "Requirement already satisfied: jinja2 in /Users/vasu/anaconda3/lib/python3.11/site-packages (from torch>=1.6.0->sentence_transformers) (3.1.2)\n",
            "Requirement already satisfied: regex!=2019.12.17 in /Users/vasu/anaconda3/lib/python3.11/site-packages (from transformers<5.0.0,>=4.6.0->sentence_transformers) (2022.7.9)\n",
            "Requirement already satisfied: tokenizers<0.19,>=0.14 in /Users/vasu/anaconda3/lib/python3.11/site-packages (from transformers<5.0.0,>=4.6.0->sentence_transformers) (0.15.0)\n",
            "Requirement already satisfied: safetensors>=0.3.1 in /Users/vasu/anaconda3/lib/python3.11/site-packages (from transformers<5.0.0,>=4.6.0->sentence_transformers) (0.3.2)\n",
            "Requirement already satisfied: click in /Users/vasu/anaconda3/lib/python3.11/site-packages (from nltk->sentence_transformers) (8.1.7)\n",
            "Requirement already satisfied: joblib in /Users/vasu/anaconda3/lib/python3.11/site-packages (from nltk->sentence_transformers) (1.2.0)\n",
            "Requirement already satisfied: threadpoolctl>=2.0.0 in /Users/vasu/anaconda3/lib/python3.11/site-packages (from scikit-learn->sentence_transformers) (2.2.0)\n",
            "Requirement already satisfied: pillow!=8.3.*,>=5.3.0 in /Users/vasu/anaconda3/lib/python3.11/site-packages (from torchvision->sentence_transformers) (9.4.0)\n",
            "Requirement already satisfied: MarkupSafe>=2.0 in /Users/vasu/anaconda3/lib/python3.11/site-packages (from jinja2->torch>=1.6.0->sentence_transformers) (2.1.1)\n",
            "Requirement already satisfied: charset-normalizer<4,>=2 in /Users/vasu/anaconda3/lib/python3.11/site-packages (from requests->huggingface-hub>=0.4.0->sentence_transformers) (2.0.4)\n",
            "Requirement already satisfied: idna<4,>=2.5 in /Users/vasu/anaconda3/lib/python3.11/site-packages (from requests->huggingface-hub>=0.4.0->sentence_transformers) (3.4)\n",
            "Requirement already satisfied: urllib3<3,>=1.21.1 in /Users/vasu/anaconda3/lib/python3.11/site-packages (from requests->huggingface-hub>=0.4.0->sentence_transformers) (1.26.16)\n",
            "Requirement already satisfied: certifi>=2017.4.17 in /Users/vasu/anaconda3/lib/python3.11/site-packages (from requests->huggingface-hub>=0.4.0->sentence_transformers) (2023.7.22)\n",
            "Requirement already satisfied: mpmath>=0.19 in /Users/vasu/anaconda3/lib/python3.11/site-packages (from sympy->torch>=1.6.0->sentence_transformers) (1.3.0)\n",
            "Note: you may need to restart the kernel to use updated packages.\n"
          ]
        }
      ],
      "source": [
        "pip install sentence_transformers"
      ]
    },
    {
      "cell_type": "code",
      "execution_count": 6,
      "metadata": {
        "id": "8WfAb7CCze1u"
      },
      "outputs": [],
      "source": [
        "\n",
        "from sentence_transformers import SentenceTransformer\n",
        "sentence_transformer_ef = embedding_functions.SentenceTransformerEmbeddingFunction(model_name=\"multi-qa-MiniLM-L6-cos-v1\")\n",
        "collection = client.create_collection(\"2013pubmed\", embedding_function=sentence_transformer_ef)\n",
        "\n"
      ]
    },
    {
      "cell_type": "code",
      "execution_count": 7,
      "metadata": {
        "id": "68GhD0RbzgnU"
      },
      "outputs": [],
      "source": [
        "# Extract data from the dataset and store it in the collection\n",
        "collection.add(\n",
        "    ids=[str(entry['PMID']) for entry in dataset],\n",
        "    documents=[entry['Abstract'] for entry in dataset],\n",
        "    metadatas=[\n",
        "        {'title': entry['Title'], 'author': entry['Author']} for entry in dataset\n",
        "    ],\n",
        ")\n",
        "\n"
      ]
    },
    {
      "cell_type": "code",
      "execution_count": 8,
      "metadata": {},
      "outputs": [
        {
          "name": "stdout",
          "output_type": "stream",
          "text": [
            "{'ids': ['25529585'], 'embeddings': None, 'metadatas': [{'author': 'Roman Marcus Carrasco', 'title': 'Apparently abnormal Wechsler Memory Scale index score patterns in the normal population'}], 'documents': ['Interpretation of the Wechsler Memory Scale-Fourth Edition may involve examination of multiple memory index score contrasts and similar comparisons with Wechsler Adult Intelligence Scale-Fourth Edition ability indexes. Standardization sample data suggest that 15-point differences between any specific pair of index scores are relatively uncommon in normal individuals, but these base rates refer to a comparison between a single pair of indexes rather than multiple simultaneous comparisons among indexes. This study provides normative data for the occurrence of multiple index score differences calculated by using Monte Carlo simulations and validated against standardization data. Differences of 15 points between any two memory indexes or between memory and ability indexes occurred in 60% and 48% of the normative sample, respectively. Wechsler index score discrepancies are normally common and therefore not clinically meaningful when numerous such comparisons are made. Explicit prior interpretive hypotheses are necessary to reduce the number of index comparisons and associated false-positive conclusions. Monte Carlo simulation accurately predicts these false-positive rates.'], 'uris': None, 'data': None}\n"
          ]
        }
      ],
      "source": [
        "# Choose a specific document (e.g., using its PMID)\n",
        "pmid_to_inspect = '25529585'\n",
        "\n",
        "retrieved_data = collection.get(ids=[pmid_to_inspect])\n",
        "\n",
        "# Print the retrieved data\n",
        "print(retrieved_data)"
      ]
    },
    {
      "cell_type": "code",
      "execution_count": 9,
      "metadata": {},
      "outputs": [
        {
          "name": "stdout",
          "output_type": "stream",
          "text": [
            "{'ids': ['21723361'], 'embeddings': [[-0.023051582276821136, -0.015295928344130516, 0.04858016222715378, -0.03580956906080246, 0.027030054479837418, 0.018105603754520416, 0.013021391816437244, 0.03626439720392227, -0.06448755413293839, -0.026079263538122177, 0.05672258511185646, -0.03270727023482323, -0.11501924693584442, 0.010153699666261673, -0.01929684728384018, 0.05824482440948486, 0.039322350174188614, 0.008022190071642399, 0.026757463812828064, 0.04715750738978386, -0.02840557135641575, 0.025222819298505783, 0.061552178114652634, -0.0051207453943789005, -0.05223706364631653, 0.09982550889253616, -0.022406315430998802, 0.0068510896526277065, 0.05093911662697792, 0.050796907395124435, 0.04798431694507599, 0.09668426215648651, 0.10195185244083405, -0.03955492004752159, -0.08661452680826187, -0.04658474773168564, 0.0017812338192015886, -0.03060678392648697, -0.057935502380132675, 0.013549855910241604, 0.04589097946882248, 0.013747917488217354, -0.045720554888248444, 0.0759592354297638, 0.02953028865158558, -0.06428448110818863, -0.06711280345916748, -0.05406937003135681, -0.032448478043079376, 0.026064062491059303, -0.09070994704961777, -0.0944427102804184, -0.03173689544200897, 0.026917317882180214, 0.05500583350658417, 0.05637698248028755, 0.027118448168039322, -0.04557305574417114, -0.09123533219099045, 0.03708400949835777, 0.00023419047647621483, -0.0156710185110569, 0.0006850552163086832, -0.0007316424744203687, 0.10194175690412521, 0.02708582393825054, 0.015431265346705914, -0.05946887284517288, -0.008878180757164955, -0.04998813197016716, 0.08322768658399582, 0.005525039508938789, 0.01605130359530449, -0.03438922017812729, 0.03429107367992401, 0.05257058143615723, -0.02845539152622223, -0.12953545153141022, -0.0265697930008173, -0.033165812492370605, 0.014311465434730053, -0.010331938974559307, -0.006424790248274803, -0.003770432434976101, 0.03236906975507736, -0.05786043405532837, -0.013553624972701073, -0.1009836196899414, -0.057576026767492294, 0.05228583887219429, -0.006431894842535257, -0.03797902166843414, 0.01163133792579174, -0.11395826935768127, 0.061473824083805084, -0.011209462769329548, -0.05785530433058739, -0.08479694277048111, 0.021793872117996216, -0.06880049407482147, 0.03194478154182434, -0.00784454494714737, -0.06393086165189743, 0.015104086138308048, 0.011860867962241173, 0.01616824045777321, -0.0006459063733927906, -0.008069717325270176, 0.0189864132553339, 0.0071134730242192745, -0.06702587008476257, 0.03075871616601944, -0.029978523030877113, 0.054146599024534225, 0.011830771341919899, 0.0005139083950780332, 0.1225588247179985, -0.012960084713995457, 0.07778949290513992, 0.009502476081252098, -0.022463710978627205, -0.06511928886175156, 0.0664534792304039, -0.03147592395544052, -0.003633574116975069, -0.05149141699075699, -0.08967138826847076, -2.7877283462660352e-31, 0.011377271264791489, -0.09712651371955872, 0.025966009125113487, -0.02678447961807251, 0.07594310492277145, 0.00037167876143939793, -0.041985884308815, -0.0662858784198761, 0.06491269171237946, -0.04809008166193962, -0.0567934587597847, 0.0738794282078743, -0.022214015945792198, 0.04927188158035278, 0.09324284642934799, 0.05707375705242157, -0.04640612006187439, 0.07480914145708084, 0.08346668630838394, 0.03586401045322418, 0.0024914161767810583, -0.08987090736627579, -0.0005961213610135019, -0.054450199007987976, 0.026589300483465195, -0.013667565770447254, -0.024813935160636902, 0.004064302425831556, -0.03326715528964996, -0.0033021101262420416, 0.03276647627353668, -0.0730917826294899, -0.0315401591360569, -0.04034927487373352, -0.020009607076644897, 0.028473863378167152, -0.0038458495400846004, 0.019011562690138817, -0.014237098395824432, 0.045313868671655655, -0.015907779335975647, 0.005488255992531776, 0.06158856675028801, -0.019186267629265785, 0.007026295643299818, -0.06418382376432419, -0.009615575894713402, 0.04557396098971367, -0.06800669431686401, 0.05737279728055, -0.004653744399547577, -0.06865424662828445, 0.01269643846899271, 0.007122920826077461, -0.008947919122874737, 0.020673537626862526, -0.012476393021643162, 0.02273879386484623, -0.07849511504173279, -0.04175230860710144, -0.049855343997478485, -0.05197858065366745, -0.06619592756032944, -0.057805921882390976, 0.05950227379798889, 0.04257870092988014, -0.000869005627464503, -0.03706330433487892, 0.015608753077685833, 0.0030169649980962276, 0.025857938453555107, 0.025990167632699013, -0.05857044458389282, -0.026182405650615692, -0.02936452627182007, 0.007100589573383331, -0.042626526206731796, -0.004438028205186129, 0.03625264763832092, -0.031571004539728165, 0.014299540780484676, 0.012538323178887367, 0.03302736207842827, -0.011269068345427513, -0.10442908853292465, 0.0388253889977932, 0.09434088319540024, -0.04235620051622391, 0.07346965372562408, 0.016285594552755356, 0.08595027029514313, -0.00878550298511982, 0.03913761302828789, -0.04381471127271652, -0.0038622296415269375, -5.2771765438472505e-33, -0.06271566450595856, -0.004552432335913181, -0.03012879192829132, -0.04780184477567673, -0.01616290956735611, -0.09671379625797272, 0.06212365999817848, -0.03625587001442909, 0.10054631531238556, -0.10087652504444122, 0.029405292123556137, -0.0441521592438221, -0.0066971383057534695, -0.05858650058507919, 0.0069580478593707085, 0.04575025290250778, 0.002462498378008604, 0.01674829050898552, 0.032286692410707474, -0.023774925619363785, -0.0230928473174572, 0.04979398101568222, 0.014247823506593704, 0.026898719370365143, 0.040796324610710144, 0.01982058770954609, -0.09300900995731354, 0.006562091875821352, 0.045772455632686615, -0.0016662164125591516, -0.006336656399071217, 0.016100183129310608, 0.06690163910388947, -0.042793262749910355, 0.036638256162405014, 0.08693089336156845, 0.010253789834678173, -0.04573484882712364, -0.017311470583081245, 0.00993379857391119, 0.011168651282787323, 0.026716560125350952, 0.05393824726343155, -0.03895619139075279, -0.025328094139695168, 0.08252590149641037, 0.03181470185518265, -0.020485863089561462, 0.028944220393896103, -0.04530475288629532, 0.022058045491576195, -0.016661014407873154, -0.006635368335992098, 0.05570370703935623, -0.019004080444574356, 0.0019753582309931517, 0.1052231714129448, -0.042985331267118454, -0.005835050716996193, -0.004177561029791832, 0.025981230661273003, -0.011438928544521332, -0.05073918029665947, -0.012842769734561443, -0.04422624409198761, -0.05782879516482353, 0.042326051741838455, -0.04021342098712921, 0.09903016686439514, -0.11669635772705078, -0.01675061322748661, 0.03438164293766022, 0.05823671817779541, -0.0037726107984781265, -0.0761689841747284, -0.043767910450696945, -0.012819922529160976, 0.0477055087685585, 0.05358641594648361, -0.04240569844841957, 0.009892082773149014, -0.03586728125810623, 0.013973698019981384, -0.09814004600048065, -0.0292309932410717, -0.06485353410243988, 0.010367928072810173, -0.06441094726324081, -0.035010043531656265, -0.0923987403512001, -0.07032279670238495, 0.03544852137565613, -0.20274673402309418, 0.02021128311753273, 0.0826573371887207, -4.839550649953667e-33, 0.13267584145069122, -0.05507146194577217, -0.023331258445978165, 0.12511992454528809, 0.0018126098439097404, -0.02571786940097809, -0.04476058483123779, 0.029798543080687523, 0.010892835445702076, -0.013147568330168724, -0.05612332746386528, 0.165605366230011, 0.04982610419392586, 0.008903423324227333, 0.025176893919706345, 0.0363154299557209, 0.010099886916577816, 0.013986633159220219, 0.006654015742242336, -0.01693330518901348, -0.014807677827775478, 0.004031931981444359, -0.011007809080183506, -0.01121433824300766, -0.08871450275182724, 0.053840357810258865, 0.05086693540215492, -0.0018850532360374928, 0.088108591735363, 0.04683719947934151, 0.10717234760522842, -0.011835755780339241, -0.009689435362815857, 0.05005355924367905, 0.0688423290848732, -0.007841330021619797, -0.05990452691912651, -0.00575423426926136, -0.002008994808420539, 0.11252278089523315, 0.00246251979842782, 0.053552690893411636, -0.11985590308904648, 0.0014785033417865634, 0.055971674621105194, -0.04339814558625221, 0.07089541107416153, 0.02140008844435215, 0.052263613790273666, 0.07819835841655731, -0.015303390100598335, -0.015949897468090057, 0.009751939214766026, -0.005523295141756535, -0.021032175049185753, 0.04617372155189514, 0.08996780961751938, -0.08798298984766006, -0.029887951910495758, 0.05693824961781502, 0.10350010544061661, 0.057780154049396515, 0.06726261228322983, -0.02018705941736698]], 'metadatas': None, 'documents': [\"Fish contains both beneficial substances e.g. docosahexaenoic acids but also harmful compounds e.g. methylmercury. Importantly, the health effects caused by these two substances can be evaluated in one common end point, intelligence quotient (IQ), providing a more transparent analysis. We estimated health effects of maternal fish consumption on child's central nervous system by creating a model with three alternative maternal fish consumption scenarios (lean fish, fatty fish, and current fish consumption). Additionally, we analyzed impacts of both regular fish consumption and extreme fish consumption habits. At the individual level, the simulated net effects were small, encompassing a range of one IQ point in all scenarios. Fatty fish consumption, however, clearly generated a beneficial net IQ effect, and lean fish consumption evoked an adverse net IQ effect. In view of the current fish consumption pattern of Finnish mothers the benefits and risks seem to more or less compensate each other. This study clearly shows the significance of which fish species are consumed during pregnancy and lactation, and the results can be generalized to apply to typical western population fish consumption habits.\"], 'uris': None, 'data': None}\n"
          ]
        }
      ],
      "source": [
        "print(collection.get(ids=['21723361'], include= ['documents', 'embeddings']))\n"
      ]
    },
    {
      "cell_type": "code",
      "execution_count": 57,
      "metadata": {},
      "outputs": [
        {
          "name": "stdout",
          "output_type": "stream",
          "text": [
            "Acute Coronary Syndrome (ACS)\n",
            "PMID: 24044669\n",
            "Title: Application of pattern recognition tools for classifying acute coronary syndrome: an integrated medical modeling\n",
            "Author: Nader Salari\n",
            "Objective: The classification of Acute Coronary Syndrome (ACS), using artificial intelligence (AI), has recently drawn the attention of the medical researchers. Using this approach, patients with myocardial infarction can be differentiated from those with unstable angina. The present study aims to develop an integrated model, based on the feature selection and classification, for the automatic classification of ACS. Methods: A dataset containing medical records of 809 patients suspected to suffer from ACS was used. For each subject, 266 clinical factors were collected. At first, a feature selection was performed based on interviews with 20 cardiologists; thereby 40 seminal features for classifying ACS were selected. Next, a feature selection algorithm was also applied to detect a subset of the features with the best classification accuracy. As a result, the feature numbers considerably reduced to only seven. Lastly, based on the seven selected features, eight various common pattern recognition tools for classification of ACS were used. Results: The performance of the aforementioned classifiers was compared based on their accuracy computed from their confusion matrices. Among these methods, the multi-layer perceptron showed the best performance with the 83.2% accuracy. Conclusion: The results reveal that an integrated AI-based feature selection and classification approach is an effective method for the early and accurate classification of ACS and ultimately a timely diagnosis and treatment of this disease.\n",
            "Similarity Score: 0.7806503176689148\n",
            "---------------\n",
            "PMID: 24140776\n",
            "Title: A case of thrombosed giant aneurysm of the azygos anterior cerebral artery: clipping under monitoring of motor evoked potentials of the lower extremities\n",
            "Author: Hiroshi Yoneda\n",
            "Giant aneurysms of the distal anterior cerebral artery (ACA), especially the azygos ACA, are rare. We treated a patient with giant aneurysm of the azygos ACA who underwent aspiration of thrombus and clipping under monitoring of motor evoked potentials of the lower extremities (L-MEPs), resulting in remarkable recovery of motor and intellectual function. A 72-year-old male was admitted with left motor weakness persisting for 2 weeks. Neurologically, disorientation and intellectual impairment were also noted. Imaging disclosed a 60-mm diameter aneurysm with heterochronous thrombi arising from the distal bifurcation of the azygos ACA. One month after the onset, radical surgery was scheduled. The azygos ACA was secured and the aneurysm was dissected, and the distal parts of the azygos ACA were confirmed. After removal of the thrombus, the neck was reconstructed with eight clips. L-MEPs disappeared due to occlusion of the azygos ACA for 20 minutes but reappeared after 22 minutes and normalized 78 minutes after reperfusion. Motor weakness improved entirely with mini-mental state examination score of 29 points at 1 month after surgery. One year later, Wechsler Adult Intelligence Scale-Third Edition and Wechsler Memory Scale-Revised scores reached normal levels. Review of reported cases found this aneurysm tends to occur in males in their 50s to 70s presenting with mass sign. Decompression of the aneurysm in the frontal lobe and monitoring of L-MEPs during temporary occlusion of the ACA are important.\n",
            "Similarity Score: 1.0846439599990845\n",
            "---------------\n",
            "PMID: 24645995\n",
            "Title: α-1 antitrypsin and chronic fatigue syndrome: a case study from pathophysiology to clinical practice\n",
            "Author: José Alegre\n",
            "SUMMARY Background: Several lines of evidence support the involvement of inflammatory and immunologic abnormalities in chronic fatigue syndrome (CFS). Since recent studies have shown that α-1 antitrypsin (AAT) possesses anti-inflammatory properties, the potential therapeutic effect of AAT treatment on CFS has been investigated. Case presentation: A 49-year-old woman diagnosed with CFS was treated with intravenous infusions of a human plasma-derived AAT concentrate (60 mg/kg body weight weekly for 8 consecutive weeks). The patient's monocyte elastase, a regulator of inflammatory processes, was 1170 U/mg. At completion of treatment, improvement in maximal workload was observed (54.0-71.7% of predicted). Additionally, amelioration in working memory (scores: 83-94) and perceptual organization (scores: 75-83) were detected on the Wechsler Adult Intelligence Scale-III test. Monocyte elastase decreased to a normal range (<150 U/mg). Improvement in functional capacity allowed the patient to work in part-time employment. Conclusion: These findings suggest a possible role for AAT in the treatment of CFS.\n",
            "Similarity Score: 1.144014835357666\n",
            "---------------\n",
            "PMID: 23333061\n",
            "Title: Recovery of cognitive function after coronary artery bypass graft operations\n",
            "Author: Kathryn M Bruce\n",
            "Background: The effect of coronary artery bypass grafting (CABG) operations on cognition was examined after controlling for the operation, emotional state, preexisting cognitive impairment, and repeated experience with cognitive tests. Methods: On-pump CABG patients (n=16), thoracic surgical patients (n=15), and a nonsurgical control group (n=15) were tested preoperatively, and at 1 and 8 weeks postoperatively, using a battery of cognitive tests and an emotional state assessment. Patient groups were similar in age, sex, level of education, and premorbid intelligence quotient score. Surgical group data were normalized against data from the nonsurgical control group before statistical analysis. Results: CABG patients performed worse on every subtest before the operation, and this disadvantage persisted after the operation. Anxiety, depression, and stress were associated with impaired cognitive performance in the surgical groups 1 week after the operation: 44% of CABG patients and 33% of surgical control patients were significantly impaired; yet, by 8 weeks, nearly all patients had recovered to preoperative levels, with 25% of CABG and 13% of surgical control patients improving beyond their preoperative performance. Conclusions: Stress, anxiety, and depression impair cognitive performance in association with CABG and thoracic operations. Most patients recover to, or exceed, preoperative levels of cognition within 8 weeks. Thus, after controlling for nonsurgical factors, the prospects of a tangible improvement in cognition after CABG are high.\n",
            "Similarity Score: 1.225821852684021\n",
            "---------------\n",
            "PMID: 23998407\n",
            "Title: Incremental reduction in the incidence of stroke in children supported with the Berlin EXCOR ventricular assist device\n",
            "Author: Jonathan W Byrnes\n",
            "Background: Cerebrovascular events (CVEs) are common among children supported with the Berlin EXCOR (Berlin Heart GmbH, Berlin, Germany) ventricular assist device (VAD). Given the high incidence of CVEs associated with this device, we sought to describe our institutional experience in incrementally reducing CVEs in children supported with the Berlin EXCOR VAD. Methods: We collected pertinent data on 39 consecutive patients who underwent Berlin EXCOR VAD implantation at a single center. Frequency of CVEs was described in risk per implantation, per day, and in reference to the time of therapeutic anticoagulation. Risk factors were analyzed for association with CVEs. Results: Of the initial 39 Berlin EXCOR VAD implantations, 16 CVEs occurred in 12 patients. The incidence of CVEs decreased with institutional experience per patient (R(2) = 0.6909, p = 0.007) and per patient-day (R(2) = 0.8051, p = 0.002). CVEs occurred more frequently before therapeutic anticoagulation targets were achieved (4.1%/day) compared with after therapeutic anticoagulation targets were achieved (0.9%/day; p = 0.044). Conclusions: Incidence of CVEs decreased with institutional experience. The risk of CVE is highest in the immediate postoperative period before therapeutic anticoagulation is achieved. Further studies are warranted in pediatric patients supported with the Berlin EXCOR VAD to confirm our findings in a larger cohort.\n",
            "Similarity Score: 1.2299435138702393\n",
            "---------------\n"
          ]
        }
      ],
      "source": [
        "from sentence_transformers import SentenceTransformer, util\n",
        "# User's question\n",
        "user_question = 'Acute Coronary Syndrome (ACS)'\n",
        "\n",
        "# Embed the user's question\n",
        "user_question_embedding = sentence_transformer_ef([user_question])[0]\n",
        "\n",
        "\n",
        "search_results = collection.query(query_embeddings=[user_question_embedding], n_results=5)\n",
        "print(user_question)\n",
        "# Print the search results\n",
        "for i, result in enumerate(search_results['ids'][0]):\n",
        "    document_id = result\n",
        "    metadata = search_results['metadatas'][0][i]  # Access the corresponding metadata\n",
        "    similarity_score = search_results['distances'][0][i]  # Access the corresponding similarity score\n",
        "    document = search_results['documents'][0][i]  # Access the corresponding document\n",
        "\n",
        "    print(f\"PMID: {document_id}\")\n",
        "    print(f\"Title: {metadata['title']}\")\n",
        "    print(f\"Author: {metadata['author']}\")\n",
        "    print(document)\n",
        "    print(f\"Similarity Score: {similarity_score}\")\n",
        "    print(\"---------------\")\n"
      ]
    },
    {
      "cell_type": "code",
      "execution_count": null,
      "metadata": {},
      "outputs": [],
      "source": []
    },
    {
      "cell_type": "code",
      "execution_count": null,
      "metadata": {},
      "outputs": [],
      "source": []
    },
    {
      "cell_type": "code",
      "execution_count": 34,
      "metadata": {},
      "outputs": [],
      "source": []
    },
    {
      "cell_type": "code",
      "execution_count": null,
      "metadata": {},
      "outputs": [],
      "source": []
    }
  ],
  "metadata": {
    "colab": {
      "provenance": []
    },
    "kernelspec": {
      "display_name": "Python 3",
      "name": "python3"
    },
    "language_info": {
      "codemirror_mode": {
        "name": "ipython",
        "version": 3
      },
      "file_extension": ".py",
      "mimetype": "text/x-python",
      "name": "python",
      "nbconvert_exporter": "python",
      "pygments_lexer": "ipython3",
      "version": "3.11.5"
    }
  },
  "nbformat": 4,
  "nbformat_minor": 0
}
