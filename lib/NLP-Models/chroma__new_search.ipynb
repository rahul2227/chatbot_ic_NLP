{
  "cells": [
    {
      "cell_type": "code",
      "execution_count": 1,
      "metadata": {
        "colab": {
          "base_uri": "https://localhost:8080/"
        },
        "id": "-pBdK3CEzC13",
        "outputId": "6187c1a3-ec5a-44e9-c1ec-5979bcfb7755"
      },
      "outputs": [
        {
          "name": "stdout",
          "output_type": "stream",
          "text": [
            "1620\n"
          ]
        }
      ],
      "source": [
        "import json\n",
        "\n",
        "# Specify the path to your JSON file\n",
        "json_file_path = '/Users/vasu/Desktop/project/chatbot_ic_NLP/lib/NLP-Models/2013pubmed.json'\n",
        "\n",
        "# Open the JSON file and load the data\n",
        "with open(json_file_path, 'r') as json_file:\n",
        "    dataset = json.load(json_file)\n",
        "\n",
        "# Print the loaded dataset\n",
        "print(len(dataset))"
      ]
    },
    {
      "cell_type": "code",
      "execution_count": 2,
      "metadata": {
        "id": "68kJcpXFzLd_"
      },
      "outputs": [
        {
          "name": "stdout",
          "output_type": "stream",
          "text": [
            "Note: you may need to restart the kernel to use updated packages.\n"
          ]
        }
      ],
      "source": [
        "%pip install -Uq chromadb numpy datasets"
      ]
    },
    {
      "cell_type": "code",
      "execution_count": 3,
      "metadata": {},
      "outputs": [
        {
          "name": "stdout",
          "output_type": "stream",
          "text": [
            "Requirement already satisfied: sentence_transformers in /Users/vasu/anaconda3/lib/python3.11/site-packages (2.2.2)\n",
            "Requirement already satisfied: transformers<5.0.0,>=4.6.0 in /Users/vasu/anaconda3/lib/python3.11/site-packages (from sentence_transformers) (4.32.1)\n",
            "Requirement already satisfied: tqdm in /Users/vasu/anaconda3/lib/python3.11/site-packages (from sentence_transformers) (4.65.0)\n",
            "Requirement already satisfied: torch>=1.6.0 in /Users/vasu/anaconda3/lib/python3.11/site-packages (from sentence_transformers) (2.1.2)\n",
            "Requirement already satisfied: torchvision in /Users/vasu/anaconda3/lib/python3.11/site-packages (from sentence_transformers) (0.16.2)\n",
            "Requirement already satisfied: numpy in /Users/vasu/anaconda3/lib/python3.11/site-packages (from sentence_transformers) (1.26.3)\n",
            "Requirement already satisfied: scikit-learn in /Users/vasu/anaconda3/lib/python3.11/site-packages (from sentence_transformers) (1.3.0)\n",
            "Requirement already satisfied: scipy in /Users/vasu/anaconda3/lib/python3.11/site-packages (from sentence_transformers) (1.11.1)\n",
            "Requirement already satisfied: nltk in /Users/vasu/anaconda3/lib/python3.11/site-packages (from sentence_transformers) (3.8.1)\n",
            "Requirement already satisfied: sentencepiece in /Users/vasu/anaconda3/lib/python3.11/site-packages (from sentence_transformers) (0.1.99)\n",
            "Requirement already satisfied: huggingface-hub>=0.4.0 in /Users/vasu/anaconda3/lib/python3.11/site-packages (from sentence_transformers) (0.20.2)\n",
            "Requirement already satisfied: filelock in /Users/vasu/anaconda3/lib/python3.11/site-packages (from huggingface-hub>=0.4.0->sentence_transformers) (3.9.0)\n",
            "Requirement already satisfied: fsspec>=2023.5.0 in /Users/vasu/anaconda3/lib/python3.11/site-packages (from huggingface-hub>=0.4.0->sentence_transformers) (2023.10.0)\n",
            "Requirement already satisfied: requests in /Users/vasu/anaconda3/lib/python3.11/site-packages (from huggingface-hub>=0.4.0->sentence_transformers) (2.31.0)\n",
            "Requirement already satisfied: pyyaml>=5.1 in /Users/vasu/anaconda3/lib/python3.11/site-packages (from huggingface-hub>=0.4.0->sentence_transformers) (6.0)\n",
            "Requirement already satisfied: typing-extensions>=3.7.4.3 in /Users/vasu/anaconda3/lib/python3.11/site-packages (from huggingface-hub>=0.4.0->sentence_transformers) (4.9.0)\n",
            "Requirement already satisfied: packaging>=20.9 in /Users/vasu/anaconda3/lib/python3.11/site-packages (from huggingface-hub>=0.4.0->sentence_transformers) (23.1)\n",
            "Requirement already satisfied: sympy in /Users/vasu/anaconda3/lib/python3.11/site-packages (from torch>=1.6.0->sentence_transformers) (1.11.1)\n",
            "Requirement already satisfied: networkx in /Users/vasu/anaconda3/lib/python3.11/site-packages (from torch>=1.6.0->sentence_transformers) (3.1)\n",
            "Requirement already satisfied: jinja2 in /Users/vasu/anaconda3/lib/python3.11/site-packages (from torch>=1.6.0->sentence_transformers) (3.1.2)\n",
            "Requirement already satisfied: regex!=2019.12.17 in /Users/vasu/anaconda3/lib/python3.11/site-packages (from transformers<5.0.0,>=4.6.0->sentence_transformers) (2022.7.9)\n",
            "Requirement already satisfied: tokenizers!=0.11.3,<0.14,>=0.11.1 in /Users/vasu/anaconda3/lib/python3.11/site-packages (from transformers<5.0.0,>=4.6.0->sentence_transformers) (0.13.2)\n",
            "Requirement already satisfied: safetensors>=0.3.1 in /Users/vasu/anaconda3/lib/python3.11/site-packages (from transformers<5.0.0,>=4.6.0->sentence_transformers) (0.3.2)\n",
            "Requirement already satisfied: click in /Users/vasu/anaconda3/lib/python3.11/site-packages (from nltk->sentence_transformers) (8.0.4)\n",
            "Requirement already satisfied: joblib in /Users/vasu/anaconda3/lib/python3.11/site-packages (from nltk->sentence_transformers) (1.2.0)\n",
            "Requirement already satisfied: threadpoolctl>=2.0.0 in /Users/vasu/anaconda3/lib/python3.11/site-packages (from scikit-learn->sentence_transformers) (2.2.0)\n",
            "Requirement already satisfied: pillow!=8.3.*,>=5.3.0 in /Users/vasu/anaconda3/lib/python3.11/site-packages (from torchvision->sentence_transformers) (9.4.0)\n",
            "Requirement already satisfied: MarkupSafe>=2.0 in /Users/vasu/anaconda3/lib/python3.11/site-packages (from jinja2->torch>=1.6.0->sentence_transformers) (2.1.1)\n",
            "Requirement already satisfied: charset-normalizer<4,>=2 in /Users/vasu/anaconda3/lib/python3.11/site-packages (from requests->huggingface-hub>=0.4.0->sentence_transformers) (2.0.4)\n",
            "Requirement already satisfied: idna<4,>=2.5 in /Users/vasu/anaconda3/lib/python3.11/site-packages (from requests->huggingface-hub>=0.4.0->sentence_transformers) (3.4)\n",
            "Requirement already satisfied: urllib3<3,>=1.21.1 in /Users/vasu/anaconda3/lib/python3.11/site-packages (from requests->huggingface-hub>=0.4.0->sentence_transformers) (1.26.16)\n",
            "Requirement already satisfied: certifi>=2017.4.17 in /Users/vasu/anaconda3/lib/python3.11/site-packages (from requests->huggingface-hub>=0.4.0->sentence_transformers) (2023.7.22)\n",
            "Requirement already satisfied: mpmath>=0.19 in /Users/vasu/anaconda3/lib/python3.11/site-packages (from sympy->torch>=1.6.0->sentence_transformers) (1.3.0)\n",
            "Note: you may need to restart the kernel to use updated packages.\n"
          ]
        }
      ],
      "source": [
        "pip install sentence_transformers"
      ]
    },
    {
      "cell_type": "code",
      "execution_count": 2,
      "metadata": {
        "id": "8hgCDdigzRKd"
      },
      "outputs": [],
      "source": [
        "# Import Chroma and instantiate a client. The default Chroma client is ephemeral, meaning it will not save to disk.\n",
        "import chromadb\n",
        "\n",
        "from chromadb import EmbeddingFunction\n",
        "\n",
        "\n",
        "client = chromadb.Client()"
      ]
    },
    {
      "cell_type": "code",
      "execution_count": 3,
      "metadata": {
        "id": "QhLBGdCQzYDU"
      },
      "outputs": [],
      "source": [
        "from chromadb.utils import embedding_functions"
      ]
    },
    {
      "cell_type": "code",
      "execution_count": 4,
      "metadata": {
        "id": "8WfAb7CCze1u"
      },
      "outputs": [],
      "source": [
        "\n",
        "from sentence_transformers import SentenceTransformer\n",
        "sentence_transformer_ef = embedding_functions.SentenceTransformerEmbeddingFunction(model_name=\"multi-qa-MiniLM-L6-cos-v1\")\n",
        "my_collection = client.create_collection(\"2013pubmed\", embedding_function=sentence_transformer_ef)chromadb start\n"
      ]
    },
    {
      "cell_type": "code",
      "execution_count": null,
      "metadata": {},
      "outputs": [],
      "source": []
    },
    {
      "cell_type": "code",
      "execution_count": 5,
      "metadata": {
        "id": "68GhD0RbzgnU"
      },
      "outputs": [],
      "source": [
        "# Extract data from the dataset and store it in the collection\n",
        "my_collection.add(\n",
        "    ids=[str(entry['PMID']) for entry in dataset],\n",
        "    documents=[entry['Abstract'] for entry in dataset],\n",
        "    metadatas=[\n",
        "        {'title': entry['Title'], 'author': entry['Author']} for entry in dataset\n",
        "    ],\n",
        ")\n",
        "\n"
      ]
    },
    {
      "cell_type": "code",
      "execution_count": 9,
      "metadata": {},
      "outputs": [
        {
          "name": "stdout",
          "output_type": "stream",
          "text": [
            "{'ids': ['25529585'], 'embeddings': None, 'metadatas': [{'author': 'Roman Marcus Carrasco', 'title': 'Apparently abnormal Wechsler Memory Scale index score patterns in the normal population'}], 'documents': ['Interpretation of the Wechsler Memory Scale-Fourth Edition may involve examination of multiple memory index score contrasts and similar comparisons with Wechsler Adult Intelligence Scale-Fourth Edition ability indexes. Standardization sample data suggest that 15-point differences between any specific pair of index scores are relatively uncommon in normal individuals, but these base rates refer to a comparison between a single pair of indexes rather than multiple simultaneous comparisons among indexes. This study provides normative data for the occurrence of multiple index score differences calculated by using Monte Carlo simulations and validated against standardization data. Differences of 15 points between any two memory indexes or between memory and ability indexes occurred in 60% and 48% of the normative sample, respectively. Wechsler index score discrepancies are normally common and therefore not clinically meaningful when numerous such comparisons are made. Explicit prior interpretive hypotheses are necessary to reduce the number of index comparisons and associated false-positive conclusions. Monte Carlo simulation accurately predicts these false-positive rates.'], 'uris': None, 'data': None}\n"
          ]
        }
      ],
      "source": [
        "# Choose a specific document (e.g., using its PMID)\n",
        "pmid_to_inspect = '25529585'\n",
        "\n",
        "retrieved_data = my_collection.get(ids=[pmid_to_inspect])\n",
        "\n",
        "# Print the retrieved data\n",
        "print(retrieved_data)"
      ]
    },
    {
      "cell_type": "code",
      "execution_count": 10,
      "metadata": {},
      "outputs": [
        {
          "name": "stdout",
          "output_type": "stream",
          "text": [
            "{'ids': ['21723361'], 'embeddings': [[-0.023051582276821136, -0.015295928344130516, 0.04858016222715378, -0.03580956906080246, 0.027030054479837418, 0.018105603754520416, 0.013021391816437244, 0.03626439720392227, -0.06448755413293839, -0.026079263538122177, 0.05672258511185646, -0.03270727023482323, -0.11501924693584442, 0.010153699666261673, -0.01929684728384018, 0.05824482440948486, 0.039322350174188614, 0.008022190071642399, 0.026757463812828064, 0.04715750738978386, -0.02840557135641575, 0.025222819298505783, 0.061552178114652634, -0.0051207453943789005, -0.05223706364631653, 0.09982550889253616, -0.022406315430998802, 0.0068510896526277065, 0.05093911662697792, 0.050796907395124435, 0.04798431694507599, 0.09668426215648651, 0.10195185244083405, -0.03955492004752159, -0.08661452680826187, -0.04658474773168564, 0.0017812338192015886, -0.03060678392648697, -0.057935502380132675, 0.013549855910241604, 0.04589097946882248, 0.013747917488217354, -0.045720554888248444, 0.0759592354297638, 0.02953028865158558, -0.06428448110818863, -0.06711280345916748, -0.05406937003135681, -0.032448478043079376, 0.026064062491059303, -0.09070994704961777, -0.0944427102804184, -0.03173689544200897, 0.026917317882180214, 0.05500583350658417, 0.05637698248028755, 0.027118448168039322, -0.04557305574417114, -0.09123533219099045, 0.03708400949835777, 0.00023419047647621483, -0.0156710185110569, 0.0006850552163086832, -0.0007316424744203687, 0.10194175690412521, 0.02708582393825054, 0.015431265346705914, -0.05946887284517288, -0.008878180757164955, -0.04998813197016716, 0.08322768658399582, 0.005525039508938789, 0.01605130359530449, -0.03438922017812729, 0.03429107367992401, 0.05257058143615723, -0.02845539152622223, -0.12953545153141022, -0.0265697930008173, -0.033165812492370605, 0.014311465434730053, -0.010331938974559307, -0.006424790248274803, -0.003770432434976101, 0.03236906975507736, -0.05786043405532837, -0.013553624972701073, -0.1009836196899414, -0.057576026767492294, 0.05228583887219429, -0.006431894842535257, -0.03797902166843414, 0.01163133792579174, -0.11395826935768127, 0.061473824083805084, -0.011209462769329548, -0.05785530433058739, -0.08479694277048111, 0.021793872117996216, -0.06880049407482147, 0.03194478154182434, -0.00784454494714737, -0.06393086165189743, 0.015104086138308048, 0.011860867962241173, 0.01616824045777321, -0.0006459063733927906, -0.008069717325270176, 0.0189864132553339, 0.0071134730242192745, -0.06702587008476257, 0.03075871616601944, -0.029978523030877113, 0.054146599024534225, 0.011830771341919899, 0.0005139083950780332, 0.1225588247179985, -0.012960084713995457, 0.07778949290513992, 0.009502476081252098, -0.022463710978627205, -0.06511928886175156, 0.0664534792304039, -0.03147592395544052, -0.003633574116975069, -0.05149141699075699, -0.08967138826847076, -2.7877283462660352e-31, 0.011377271264791489, -0.09712651371955872, 0.025966009125113487, -0.02678447961807251, 0.07594310492277145, 0.00037167876143939793, -0.041985884308815, -0.0662858784198761, 0.06491269171237946, -0.04809008166193962, -0.0567934587597847, 0.0738794282078743, -0.022214015945792198, 0.04927188158035278, 0.09324284642934799, 0.05707375705242157, -0.04640612006187439, 0.07480914145708084, 0.08346668630838394, 0.03586401045322418, 0.0024914161767810583, -0.08987090736627579, -0.0005961213610135019, -0.054450199007987976, 0.026589300483465195, -0.013667565770447254, -0.024813935160636902, 0.004064302425831556, -0.03326715528964996, -0.0033021101262420416, 0.03276647627353668, -0.0730917826294899, -0.0315401591360569, -0.04034927487373352, -0.020009607076644897, 0.028473863378167152, -0.0038458495400846004, 0.019011562690138817, -0.014237098395824432, 0.045313868671655655, -0.015907779335975647, 0.005488255992531776, 0.06158856675028801, -0.019186267629265785, 0.007026295643299818, -0.06418382376432419, -0.009615575894713402, 0.04557396098971367, -0.06800669431686401, 0.05737279728055, -0.004653744399547577, -0.06865424662828445, 0.01269643846899271, 0.007122920826077461, -0.008947919122874737, 0.020673537626862526, -0.012476393021643162, 0.02273879386484623, -0.07849511504173279, -0.04175230860710144, -0.049855343997478485, -0.05197858065366745, -0.06619592756032944, -0.057805921882390976, 0.05950227379798889, 0.04257870092988014, -0.000869005627464503, -0.03706330433487892, 0.015608753077685833, 0.0030169649980962276, 0.025857938453555107, 0.025990167632699013, -0.05857044458389282, -0.026182405650615692, -0.02936452627182007, 0.007100589573383331, -0.042626526206731796, -0.004438028205186129, 0.03625264763832092, -0.031571004539728165, 0.014299540780484676, 0.012538323178887367, 0.03302736207842827, -0.011269068345427513, -0.10442908853292465, 0.0388253889977932, 0.09434088319540024, -0.04235620051622391, 0.07346965372562408, 0.016285594552755356, 0.08595027029514313, -0.00878550298511982, 0.03913761302828789, -0.04381471127271652, -0.0038622296415269375, -5.2771765438472505e-33, -0.06271566450595856, -0.004552432335913181, -0.03012879192829132, -0.04780184477567673, -0.01616290956735611, -0.09671379625797272, 0.06212365999817848, -0.03625587001442909, 0.10054631531238556, -0.10087652504444122, 0.029405292123556137, -0.0441521592438221, -0.0066971383057534695, -0.05858650058507919, 0.0069580478593707085, 0.04575025290250778, 0.002462498378008604, 0.01674829050898552, 0.032286692410707474, -0.023774925619363785, -0.0230928473174572, 0.04979398101568222, 0.014247823506593704, 0.026898719370365143, 0.040796324610710144, 0.01982058770954609, -0.09300900995731354, 0.006562091875821352, 0.045772455632686615, -0.0016662164125591516, -0.006336656399071217, 0.016100183129310608, 0.06690163910388947, -0.042793262749910355, 0.036638256162405014, 0.08693089336156845, 0.010253789834678173, -0.04573484882712364, -0.017311470583081245, 0.00993379857391119, 0.011168651282787323, 0.026716560125350952, 0.05393824726343155, -0.03895619139075279, -0.025328094139695168, 0.08252590149641037, 0.03181470185518265, -0.020485863089561462, 0.028944220393896103, -0.04530475288629532, 0.022058045491576195, -0.016661014407873154, -0.006635368335992098, 0.05570370703935623, -0.019004080444574356, 0.0019753582309931517, 0.1052231714129448, -0.042985331267118454, -0.005835050716996193, -0.004177561029791832, 0.025981230661273003, -0.011438928544521332, -0.05073918029665947, -0.012842769734561443, -0.04422624409198761, -0.05782879516482353, 0.042326051741838455, -0.04021342098712921, 0.09903016686439514, -0.11669635772705078, -0.01675061322748661, 0.03438164293766022, 0.05823671817779541, -0.0037726107984781265, -0.0761689841747284, -0.043767910450696945, -0.012819922529160976, 0.0477055087685585, 0.05358641594648361, -0.04240569844841957, 0.009892082773149014, -0.03586728125810623, 0.013973698019981384, -0.09814004600048065, -0.0292309932410717, -0.06485353410243988, 0.010367928072810173, -0.06441094726324081, -0.035010043531656265, -0.0923987403512001, -0.07032279670238495, 0.03544852137565613, -0.20274673402309418, 0.02021128311753273, 0.0826573371887207, -4.839550649953667e-33, 0.13267584145069122, -0.05507146194577217, -0.023331258445978165, 0.12511992454528809, 0.0018126098439097404, -0.02571786940097809, -0.04476058483123779, 0.029798543080687523, 0.010892835445702076, -0.013147568330168724, -0.05612332746386528, 0.165605366230011, 0.04982610419392586, 0.008903423324227333, 0.025176893919706345, 0.0363154299557209, 0.010099886916577816, 0.013986633159220219, 0.006654015742242336, -0.01693330518901348, -0.014807677827775478, 0.004031931981444359, -0.011007809080183506, -0.01121433824300766, -0.08871450275182724, 0.053840357810258865, 0.05086693540215492, -0.0018850532360374928, 0.088108591735363, 0.04683719947934151, 0.10717234760522842, -0.011835755780339241, -0.009689435362815857, 0.05005355924367905, 0.0688423290848732, -0.007841330021619797, -0.05990452691912651, -0.00575423426926136, -0.002008994808420539, 0.11252278089523315, 0.00246251979842782, 0.053552690893411636, -0.11985590308904648, 0.0014785033417865634, 0.055971674621105194, -0.04339814558625221, 0.07089541107416153, 0.02140008844435215, 0.052263613790273666, 0.07819835841655731, -0.015303390100598335, -0.015949897468090057, 0.009751939214766026, -0.005523295141756535, -0.021032175049185753, 0.04617372155189514, 0.08996780961751938, -0.08798298984766006, -0.029887951910495758, 0.05693824961781502, 0.10350010544061661, 0.057780154049396515, 0.06726261228322983, -0.02018705941736698]], 'metadatas': None, 'documents': [\"Fish contains both beneficial substances e.g. docosahexaenoic acids but also harmful compounds e.g. methylmercury. Importantly, the health effects caused by these two substances can be evaluated in one common end point, intelligence quotient (IQ), providing a more transparent analysis. We estimated health effects of maternal fish consumption on child's central nervous system by creating a model with three alternative maternal fish consumption scenarios (lean fish, fatty fish, and current fish consumption). Additionally, we analyzed impacts of both regular fish consumption and extreme fish consumption habits. At the individual level, the simulated net effects were small, encompassing a range of one IQ point in all scenarios. Fatty fish consumption, however, clearly generated a beneficial net IQ effect, and lean fish consumption evoked an adverse net IQ effect. In view of the current fish consumption pattern of Finnish mothers the benefits and risks seem to more or less compensate each other. This study clearly shows the significance of which fish species are consumed during pregnancy and lactation, and the results can be generalized to apply to typical western population fish consumption habits.\"], 'uris': None, 'data': None}\n"
          ]
        }
      ],
      "source": [
        "print(my_collection.get(ids=['21723361'], include= ['documents', 'embeddings']))\n"
      ]
    },
    {
      "cell_type": "code",
      "execution_count": 11,
      "metadata": {},
      "outputs": [
        {
          "name": "stdout",
          "output_type": "stream",
          "text": [
            "CASK Disorders\n",
            "PMID: 24278995\n",
            "Title: CASK Disorders\n",
            "Author: Ute Moog\n",
            "Clinical characteristics: CASK disorders include a spectrum of phenotypes in both females and males. Two main types of clinical presentation are seen: Microcephaly with pontine and cerebellar hypoplasia (MICPCH), generally associated with pathogenic loss-of-function variants in CASKX-linked intellectual disability (XLID) with or without nystagmus, generally associated with hypomorphic CASK pathogenic variants MICPCH is typically seen in females with moderate-to-severe intellectual disability, progressive microcephaly with or without ophthalmologic anomalies, and sensorineural hearing loss. Most are able to sit independently; 20%-25% attain the ability to walk; language is nearly absent in most. Neurologic features may include axial hypotonia, hypertonia/spasticity of the extremities, and dystonia or other movement disorders. Nearly 40% have seizures by age ten years. Behaviors may include sleep disturbances, hand stereotypies, and self biting. MICPCH in males may occur with or without severe epileptic encephalopathy in addition to severe-to-profound developmental delay. When seizures are present they occur early and may be intractable. In individuals and families with milder (i.e., hypomorphic) pathogenic variants, the clinical phenotype is usually that of XLID with or without nystagmus and additional clinical features. Males have mild-to-severe intellectual disability, with or without nystagmus and other ocular features. Females typically have normal intelligence with some displaying mild-to-severe intellectual disability with or without ocular features. Diagnosis/testing: The diagnosis of a CASK disorder is established in a female who is heterozygous for a CASK pathogenic variant and in a male who is hemizygous for a CASK pathogenic variant on molecular genetic testing. Rarely, affected males have a mosaic pathogenic variant. Management: Treatment of manifestations: Treatment is symptomatic and includes standard management of developmental delay and intellectual disability issues; medication for seizures; nutritional support; use of physiotherapy; and treatment of abnormal vision or hearing loss. Genetic counseling: CASK disorders are inherited in an X-linked manner. Risk to the family members of a proband with a CASK disorder depends on the phenotype (i.e., MICPCH or XLID ± nystagmus) in the proband. MICPCH. Most affected females and males represent simplex cases (i.e., the only affected family member) and have the disorder as the result of a de novo CASK pathogenic variant. Because heterozygous females manifest the phenotype, an asymptomatic mother is unlikely to be heterozygous for the CASK pathogenic variant. If a proband represents a simplex case, the recurrence risk to sibs appears to be low but greater than that of the general population because of the possibility of parental germline mosaicism.XLID ± nystagmus. The father of a male with a CASK disorder will not have the disorder nor will he be hemizygous for the CASK pathogenic variant. If a male is the only affected family member, the mother may be a heterozygote or the affected male may have a de novo pathogenic variant. In a family with more than one affected individual, the mother of an affected male is an obligate heterozygote. If the mother of the proband has a CASK pathogenic variant, the chance of transmitting it in each pregnancy is 50%: males who inherit the pathogenic variant will be affected; females who inherit the pathogenic variant will typically be asymptomatic but may have a range of manifestations. If the CASK pathogenic variant cannot be detected in maternal leukocyte DNA, the risk to sibs is greater than that of the general population because of the possibility of parental germline mosaicism. Once the CASK pathogenic variant has been identified in an affected family member, prenatal testing for a pregnancy at increased risk and preimplantation genetic testing for a CASK disorder are possible.\n",
            "Similarity Score: 0.6825810670852661\n",
            "---------------\n",
            "PMID: 24183735\n",
            "Title: Role of plasma homocysteine levels and MTHFR polymorphisms on IQ scores in children and young adults with epilepsy treated with antiepileptic drugs\n",
            "Author: Gabriella Di Rosa\n",
            "Homocysteine (Hcy) is a sulfur-containing amino acid involved in methionine metabolism. High plasma total Hcy (tHcy) has been quite frequently reported in patients with epilepsy treated with antiepileptic drugs (AEDs) mainly related to plasma folate reduction induced by AEDs themselves. The role of C677T and A1298C polymorphisms of methylenetetrahydrofolate reductase gene (MTHFR) on the increase of plasma tHcy in patients with epilepsy taking AEDs is still controversial. Cognitive impairment may be associated with epilepsy either as the result of the epileptic syndrome per se or as a side effect induced by the AEDs. High plasma tHcy levels were associated with lower cognitive performances in patients affected by Alzheimer's disease and mild cognitive impairment and in healthy elderly. We searched for a correlation between plasma tHcy levels with the intelligence quotient (IQ) scores in a population of children and young adults with epilepsy treated with old and/or newer AEDs. The study group encompassed 179 patients (92 M, 51.5%) followed at our Unit of Child Neuropsychiatry and aged between 4 and 25years (mean+SD: 14.03±4.25). The inclusion criteria included the following: 1) diagnosis of epilepsy of \"unknown cause\" (cryptogenic) according to the ILAE classification, 2) age older than 3years, 3) stabilized antiepileptic treatment for at least 6months, and 4) clinical records of cognitive tests, plasma tHcy value, and results of MTHFR polymorphisms. Patients' mean tHcy value was 9.71±3.13μM/L (tHcy<9μM/L as our laboratory cutoff in nonepileptic controls). The mean TIQ score was 85.22 (SD±24.12); the mean VIQ score was 86.32 (SD±20.86); and the mean PIQ score was 86.94 (SD±21.51). C677T and A1298C MTHFR polymorphisms were detected in 74/92 (80%) examined patients and distributed into the following: CT (22.3%), TT (14.9%), CC (10.3%) for C677T, AC (16%), CC (1.1%), and AA (30.3%) for A1298C. Plasma tHcy levels were not significantly related to the IQ scores (TIQ, VIQ, or PIQ). Two significant findings came out. First, patients on AED polytherapy showed significantly lower TIQ, VIQ, and PIQ scores compared with the ones with AED monotherapy (p=0.032; p=0.008; p=0.005, respectively). However, this significant difference was not observed with the plasma tHcy levels compared with AED treatment. Second, patients with the 677TT genotype showed significantly higher tHcy levels versus those with the wt ones (p=0.049). In the latter group of patients, although the mean TIQ score was lower compared with the mean TIQ score in those with the wt ones, the difference only approached statistical significance (p=0.056). To our knowledge, this is the first study investigating the relationship between tHcy levels and cognitive scores in children with epilepsy treated with AEDs. Analysis of wider samples, selective neuropsychological tests, and prospective recruitment of patients might be encouraged.\n",
            "Similarity Score: 1.2033621072769165\n",
            "---------------\n",
            "PMID: 23913778\n",
            "Title: Long-term follow-up of four patients with Langer-Giedion syndrome: clinical course and complications\n",
            "Author: Albert Schinzel\n",
            "Long-term observations of individuals with the so-called Langer-Giedion (LGS) or tricho-rhino-phalangeal type II (TRPS2) are scarce. We report here a on follow-up of four LGS individuals, including one first described by Andres Giedion in 1969, and review the sparse publications on adults with this syndrome which comprises ectodermal dysplasia, multiple cone-shaped epiphyses prior to puberty, multiple cartilaginous exostoses, and mostly mild intellectual impairment. LGS is caused by deletion of the chromosomal segment 8q24.11-q24.13 containing among others the genes EXT1 and TRPS1. Most patients with TRPS2 are only borderline or mildly cognitively delayed, and few are of normal intelligence. Their practical skills are better than their intellectual capability, and, for this reason and because of their low self-esteem, they are often underestimated. Some patients develop seizures at variable age. Osteomas on processes of cervical vertebrae may cause pressure on cervical nerves or dissection of cerebral arteries. Joint stiffness is observed during childhood and changes later to joint laxity causing instability and proneness to trauma. Perthes disease is not rare. Almost all males become bald at or soon after puberty, and some develop (pseudo) gynecomastia. Growth hormone deficiency was found in a few patients, TSH deficiency so far only in one. Puberty and fertility are diminished, and no instance of transmission of the deletion from a non-mosaic parent to a child has been observed so far. Several affected females had vaginal atresia with consequent hydrometrocolpos.\n",
            "Similarity Score: 1.2223389148712158\n",
            "---------------\n",
            "PMID: 23801937\n",
            "Title: Mucopolysaccharidosis Type II and the G374sp Mutation\n",
            "Author: E Martínez-Quintana\n",
            "Mucopolysaccharidosis type II (MPS II), also known as Hunter syndrome, is a rare, X-linked disease caused by a deficiency of the lysosomal enzyme iduronate-2-sulfatase, which catalyses a step in the catabolism of glycosaminoglycans resulting in accumulation of heparan and dermatan sulfate in many organs and tissues. This accumulation favors the appearance of neurologic involvement, severe airway obstruction, skeletal deformities, and cardiomyopathy, especially mitral and aortic valve regurgitation. In severe cases, obstructive airway disease and cardiac failure due to valvular dysfunction are the most common causes of death within the second decade of life. However, in mild cases, intelligence remains normal, stature is almost normal and death usually occurs due to cardiac failure in the fourth decade of life. We report the presentation, diagnosis, management, and outcome of 2 siblings with MPS II and the G374sp mutation at the nucleotide c.1246 of the gene encoding for the iduronate-2-sulfatase.\n",
            "Similarity Score: 1.2721991539001465\n",
            "---------------\n",
            "PMID: 23956016\n",
            "Title: Use of computerized algorithm to identify individuals in need of testing for celiac disease\n",
            "Author: Jonas F Ludvigsson\n",
            "Background and aim: Celiac disease (CD) is a lifelong immune-mediated disease with excess mortality. Early diagnosis is important to minimize disease symptoms, complications, and consumption of healthcare resources. Most patients remain undiagnosed. We developed two electronic medical record (EMR)-based algorithms to identify patients at high risk of CD and in need of CD screening. Methods: (I) Using natural language processing (NLP), we searched EMRs for 16 free text (and related) terms in 216 CD patients and 280 controls. (II) EMRs were also searched for ICD9 (International Classification of Disease) codes suggesting an increased risk of CD in 202 patients with CD and 524 controls. For each approach, we determined the optimal number of hits to be assigned as CD cases. To assess performance of these algorithms, sensitivity and specificity were calculated. Results: Using two hits as the cut-off, the NLP algorithm identified 72.9% of all celiac patients (sensitivity), and ruled out CD in 89.9% of the controls (specificity). In a representative US population of individuals without a prior celiac diagnosis (assuming that 0.6% had undiagnosed CD), this NLP algorithm could identify a group of individuals where 4.2% would have CD (positive predictive value). ICD9 code search using three hits as the cut-off had a sensitivity of 17.1% and a specificity of 88.5% (positive predictive value was 0.9%). Discussion and conclusions: This study shows that computerized EMR-based algorithms can help identify patients at high risk of CD. NLP-based techniques demonstrate higher sensitivity and positive predictive values than algorithms based on ICD9 code searches.\n",
            "Similarity Score: 1.2880749702453613\n",
            "---------------\n"
          ]
        }
      ],
      "source": [
        "from sentence_transformers import SentenceTransformer, util\n",
        "# User's question\n",
        "user_question = 'CASK Disorders'\n",
        "\n",
        "# Embed the user's question\n",
        "user_question_embedding = sentence_transformer_ef([user_question])[0]\n",
        "\n",
        "search_results = my_collection.query(query_embeddings=[user_question_embedding], n_results=5)\n",
        "print(user_question)\n",
        "# Print the search results\n",
        "for i, result in enumerate(search_results['ids'][0]):\n",
        "    document_id = result\n",
        "    metadata = search_results['metadatas'][0][i]  # Access the corresponding metadata\n",
        "    similarity_score = search_results['distances'][0][i]  # Access the corresponding similarity score\n",
        "    document = search_results['documents'][0][i]  # Access the corresponding document\n",
        "\n",
        "    print(f\"PMID: {document_id}\")\n",
        "    print(f\"Title: {metadata['title']}\")\n",
        "    print(f\"Author: {metadata['author']}\")\n",
        "    print(document)\n",
        "    print(f\"Similarity Score: {similarity_score}\")\n",
        "    print(\"---------------\")\n"
      ]
    },
    {
      "cell_type": "code",
      "execution_count": 15,
      "metadata": {},
      "outputs": [
        {
          "name": "stdout",
          "output_type": "stream",
          "text": [
            "huggingface/tokenizers: The current process just got forked, after parallelism has already been used. Disabling parallelism to avoid deadlocks...\n",
            "To disable this warning, you can either:\n",
            "\t- Avoid using `tokenizers` before the fork if possible\n",
            "\t- Explicitly set the environment variable TOKENIZERS_PARALLELISM=(true | false)\n",
            "chromadb not found\n"
          ]
        }
      ],
      "source": [
        "!which chromadb\n"
      ]
    },
    {
      "cell_type": "code",
      "execution_count": null,
      "metadata": {},
      "outputs": [],
      "source": []
    },
    {
      "cell_type": "code",
      "execution_count": null,
      "metadata": {},
      "outputs": [],
      "source": []
    },
    {
      "cell_type": "code",
      "execution_count": null,
      "metadata": {},
      "outputs": [],
      "source": []
    },
    {
      "cell_type": "code",
      "execution_count": 34,
      "metadata": {},
      "outputs": [],
      "source": []
    },
    {
      "cell_type": "code",
      "execution_count": null,
      "metadata": {},
      "outputs": [],
      "source": []
    }
  ],
  "metadata": {
    "colab": {
      "provenance": []
    },
    "kernelspec": {
      "display_name": "Python 3",
      "name": "python3"
    },
    "language_info": {
      "codemirror_mode": {
        "name": "ipython",
        "version": 3
      },
      "file_extension": ".py",
      "mimetype": "text/x-python",
      "name": "python",
      "nbconvert_exporter": "python",
      "pygments_lexer": "ipython3",
      "version": "3.11.5"
    }
  },
  "nbformat": 4,
  "nbformat_minor": 0
}
