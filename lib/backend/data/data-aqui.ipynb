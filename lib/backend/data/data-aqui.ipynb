{
  "cells": [
    {
      "cell_type": "code",
      "execution_count": 2,
      "metadata": {
        "id": "Rq9tmSIxItlw"
      },
      "outputs": [],
      "source": [
        "from bs4 import BeautifulSoup as BS\n",
        "import pandas as pd\n",
        "import requests"
      ]
    },
    {
      "cell_type": "code",
      "source": [
        "!pip install -U featuretools"
      ],
      "metadata": {
        "colab": {
          "base_uri": "https://localhost:8080/"
        },
        "id": "MjieE8oyvkTD",
        "outputId": "4106ed64-f325-40ed-eb17-9003f69e054c"
      },
      "execution_count": 2,
      "outputs": [
        {
          "output_type": "stream",
          "name": "stdout",
          "text": [
            "Collecting featuretools\n",
            "  Downloading featuretools-1.28.0-py3-none-any.whl (619 kB)\n",
            "\u001b[2K     \u001b[90m━━━━━━━━━━━━━━━━━━━━━━━━━━━━━━━━━━━━━━━━\u001b[0m \u001b[32m619.2/619.2 kB\u001b[0m \u001b[31m7.8 MB/s\u001b[0m eta \u001b[36m0:00:00\u001b[0m\n",
            "\u001b[?25hRequirement already satisfied: cloudpickle>=1.5.0 in /usr/local/lib/python3.10/dist-packages (from featuretools) (2.2.1)\n",
            "Collecting holidays<0.33,>=0.13 (from featuretools)\n",
            "  Downloading holidays-0.32-py3-none-any.whl (754 kB)\n",
            "\u001b[2K     \u001b[90m━━━━━━━━━━━━━━━━━━━━━━━━━━━━━━━━━━━━━━━━\u001b[0m \u001b[32m754.4/754.4 kB\u001b[0m \u001b[31m12.9 MB/s\u001b[0m eta \u001b[36m0:00:00\u001b[0m\n",
            "\u001b[?25hRequirement already satisfied: numpy>=1.21.0 in /usr/local/lib/python3.10/dist-packages (from featuretools) (1.23.5)\n",
            "Requirement already satisfied: packaging>=20.0 in /usr/local/lib/python3.10/dist-packages (from featuretools) (23.2)\n",
            "Requirement already satisfied: pandas>=1.5.0 in /usr/local/lib/python3.10/dist-packages (from featuretools) (1.5.3)\n",
            "Requirement already satisfied: psutil>=5.6.6 in /usr/local/lib/python3.10/dist-packages (from featuretools) (5.9.5)\n",
            "Requirement already satisfied: scipy>=1.10.0 in /usr/local/lib/python3.10/dist-packages (from featuretools) (1.11.4)\n",
            "Requirement already satisfied: tqdm>=4.32.0 in /usr/local/lib/python3.10/dist-packages (from featuretools) (4.66.1)\n",
            "Collecting woodwork>=0.23.0 (from featuretools)\n",
            "  Downloading woodwork-0.27.0-py3-none-any.whl (236 kB)\n",
            "\u001b[2K     \u001b[90m━━━━━━━━━━━━━━━━━━━━━━━━━━━━━━━━━━━━━━━━\u001b[0m \u001b[32m236.1/236.1 kB\u001b[0m \u001b[31m13.2 MB/s\u001b[0m eta \u001b[36m0:00:00\u001b[0m\n",
            "\u001b[?25hRequirement already satisfied: python-dateutil in /usr/local/lib/python3.10/dist-packages (from holidays<0.33,>=0.13->featuretools) (2.8.2)\n",
            "Requirement already satisfied: pytz>=2020.1 in /usr/local/lib/python3.10/dist-packages (from pandas>=1.5.0->featuretools) (2023.3.post1)\n",
            "Requirement already satisfied: scikit-learn>=0.22 in /usr/local/lib/python3.10/dist-packages (from woodwork>=0.23.0->featuretools) (1.2.2)\n",
            "Requirement already satisfied: importlib-resources>=5.10.0 in /usr/local/lib/python3.10/dist-packages (from woodwork>=0.23.0->featuretools) (6.1.1)\n",
            "Requirement already satisfied: six>=1.5 in /usr/local/lib/python3.10/dist-packages (from python-dateutil->holidays<0.33,>=0.13->featuretools) (1.16.0)\n",
            "Requirement already satisfied: joblib>=1.1.1 in /usr/local/lib/python3.10/dist-packages (from scikit-learn>=0.22->woodwork>=0.23.0->featuretools) (1.3.2)\n",
            "Requirement already satisfied: threadpoolctl>=2.0.0 in /usr/local/lib/python3.10/dist-packages (from scikit-learn>=0.22->woodwork>=0.23.0->featuretools) (3.2.0)\n",
            "Installing collected packages: holidays, woodwork, featuretools\n",
            "  Attempting uninstall: holidays\n",
            "    Found existing installation: holidays 0.40\n",
            "    Uninstalling holidays-0.40:\n",
            "      Successfully uninstalled holidays-0.40\n",
            "Successfully installed featuretools-1.28.0 holidays-0.32 woodwork-0.27.0\n"
          ]
        }
      ]
    },
    {
      "cell_type": "code",
      "execution_count": null,
      "metadata": {
        "colab": {
          "base_uri": "https://localhost:8080/"
        },
        "id": "7R2DTS2RIvxA",
        "outputId": "0bbf8470-62a9-4ae2-a45c-e381108d2339"
      },
      "outputs": [
        {
          "output_type": "stream",
          "name": "stdout",
          "text": [
            "1\n",
            "2\n",
            "3\n",
            "4\n",
            "5\n",
            "6\n",
            "7\n",
            "8\n",
            "9\n",
            "10\n",
            "11\n",
            "12\n",
            "13\n",
            "14\n",
            "15\n",
            "16\n",
            "17\n",
            "18\n",
            "19\n",
            "20\n",
            "21\n",
            "22\n",
            "23\n",
            "24\n",
            "25\n",
            "26\n",
            "27\n",
            "28\n",
            "29\n",
            "30\n",
            "31\n",
            "32\n",
            "33\n",
            "34\n",
            "35\n",
            "36\n",
            "37\n",
            "38\n",
            "39\n",
            "40\n",
            "41\n",
            "42\n",
            "43\n",
            "44\n",
            "45\n",
            "46\n",
            "47\n",
            "48\n",
            "49\n",
            "50\n",
            "51\n",
            "52\n",
            "53\n",
            "54\n",
            "55\n",
            "56\n",
            "57\n",
            "58\n",
            "59\n",
            "60\n",
            "61\n",
            "62\n",
            "63\n",
            "64\n",
            "65\n",
            "66\n",
            "67\n",
            "68\n",
            "69\n",
            "70\n",
            "71\n",
            "72\n",
            "73\n",
            "74\n",
            "75\n",
            "76\n",
            "77\n",
            "78\n",
            "79\n",
            "80\n",
            "81\n",
            "82\n",
            "83\n",
            "84\n",
            "85\n",
            "86\n",
            "87\n"
          ]
        }
      ],
      "source": [
        "\n",
        "\n",
        "\n",
        "import re\n",
        "Title_list=[]\n",
        "\n",
        "#all links of a single page\n",
        "Abstract_list=[]\n",
        "\n",
        "Author=[]\n",
        "Pmid=[]\n",
        "counter_title=0\n",
        "counter_pmid=0\n",
        "counter_abstract=0\n",
        "counter_author=0\n",
        "c=0\n",
        "for i in range(1,833):\n",
        "    c+=1\n",
        "    print(c)\n",
        "\n",
        "    url=\"https://pubmed.ncbi.nlm.nih.gov/?term=intelligence+%5BTitle%2Fabstract%5D&filter=simsearch1.fha&filter=years.2013-2017&sort=date&page=\"+str(i)\n",
        "\n",
        "    r=requests.get(url)\n",
        "    soup=BS(r.text,\"lxml\")\n",
        "\n",
        "    all_links=soup.find_all(\"a\",class_=\"docsum-title\")\n",
        "\n",
        "    for link in all_links:\n",
        "        href = link.get('href')\n",
        "\n",
        "        nsp=\"https://pubmed.ncbi.nlm.nih.gov\"+href\n",
        "        rs=requests.get(nsp)\n",
        "        abst=BS(rs.text,\"lxml\")\n",
        "        #TITLE\n",
        "        title=abst.find_all(\"h1\",class_=\"heading-title\")\n",
        "        sample_var=1\n",
        "\n",
        "        for i in title:\n",
        "            counter_title+=1\n",
        "            til=i.text.strip()\n",
        "            til=til.replace('\\n','')\n",
        "            til=til.replace('[','')\n",
        "            til=til.replace('].','')\n",
        "            Title_list.append(til)\n",
        "            if sample_var==1:\n",
        "                break\n",
        "\n",
        "        #PMID\n",
        "        pmi=abst.find_all(\"strong\",class_=\"current-id\")\n",
        "        sample2_var=1\n",
        "\n",
        "        for j in pmi:\n",
        "            counter_pmid+=1\n",
        "            pm=j.text\n",
        "            Pmid.append(pm)\n",
        "            if sample2_var==1:\n",
        "                break\n",
        "\n",
        "        abs=abst.find_all('div',class_='abstract-content selected')\n",
        "        if abs is not None:\n",
        "\n",
        "          for m in abs:\n",
        "              counter_abstract+=1\n",
        "              ab=m.text.strip()\n",
        "              ab=ab.replace(\"\\n\",\" \")\n",
        "              ab = re.sub(r'\\s+', ' ', ab).strip()\n",
        "\n",
        "              Abstract_list.append(ab)\n",
        "        else:\n",
        "          counter_abstract+=1\n",
        "\n",
        "          ab = counter_abstract\n",
        "          Abstract_list.append(ab)\n",
        "\n",
        "\n",
        "\n",
        "        #ATUTHOR\n",
        "\n",
        "\n",
        "        auth = abst.find('a',class_=\"full-name\")\n",
        "        if auth is not None:\n",
        "          counter_author+=1\n",
        "          auth = auth.text\n",
        "          Author.append(auth)\n",
        "        else:\n",
        "          counter_author+=1\n",
        "          auth = counter_author\n",
        "          Author.append(auth)\n",
        "\n",
        "\n",
        "\n",
        "\n",
        "print(Title_list)\n",
        "print(Abstract_list)\n",
        "\n",
        "print(Author)\n",
        "print(Pmid)"
      ]
    },
    {
      "cell_type": "code",
      "source": [
        "print(counter_title)\n",
        "print(counter_abstract)\n",
        "print(counter_author)\n",
        "print(counter_pmid)"
      ],
      "metadata": {
        "colab": {
          "base_uri": "https://localhost:8080/",
          "height": 227
        },
        "id": "g6N3wcYAEh5e",
        "outputId": "c5f7d4ac-20e2-4625-a1dd-f4a76e25b4b4"
      },
      "execution_count": 1,
      "outputs": [
        {
          "output_type": "error",
          "ename": "NameError",
          "evalue": "name 'counter_title' is not defined",
          "traceback": [
            "\u001b[0;31m---------------------------------------------------------------------------\u001b[0m",
            "\u001b[0;31mNameError\u001b[0m                                 Traceback (most recent call last)",
            "\u001b[0;32m<ipython-input-1-ee952cc539bf>\u001b[0m in \u001b[0;36m<cell line: 1>\u001b[0;34m()\u001b[0m\n\u001b[0;32m----> 1\u001b[0;31m \u001b[0mprint\u001b[0m\u001b[0;34m(\u001b[0m\u001b[0mcounter_title\u001b[0m\u001b[0;34m)\u001b[0m\u001b[0;34m\u001b[0m\u001b[0;34m\u001b[0m\u001b[0m\n\u001b[0m\u001b[1;32m      2\u001b[0m \u001b[0mprint\u001b[0m\u001b[0;34m(\u001b[0m\u001b[0mcounter_abstract\u001b[0m\u001b[0;34m)\u001b[0m\u001b[0;34m\u001b[0m\u001b[0;34m\u001b[0m\u001b[0m\n\u001b[1;32m      3\u001b[0m \u001b[0mprint\u001b[0m\u001b[0;34m(\u001b[0m\u001b[0mcounter_author\u001b[0m\u001b[0;34m)\u001b[0m\u001b[0;34m\u001b[0m\u001b[0;34m\u001b[0m\u001b[0m\n\u001b[1;32m      4\u001b[0m \u001b[0mprint\u001b[0m\u001b[0;34m(\u001b[0m\u001b[0mcounter_pmid\u001b[0m\u001b[0;34m)\u001b[0m\u001b[0;34m\u001b[0m\u001b[0;34m\u001b[0m\u001b[0m\n",
            "\u001b[0;31mNameError\u001b[0m: name 'counter_title' is not defined"
          ]
        }
      ]
    },
    {
      "cell_type": "code",
      "execution_count": 42,
      "metadata": {
        "colab": {
          "base_uri": "https://localhost:8080/"
        },
        "id": "uGF--6LCWb_N",
        "outputId": "911eb15f-b18c-46c9-c2b1-c5380dd0fec9"
      },
      "outputs": [
        {
          "output_type": "stream",
          "name": "stdout",
          "text": [
            "3895\n",
            "3895\n",
            "3895\n",
            "3895\n"
          ]
        }
      ],
      "source": [
        "print(len(Title_list))\n",
        "print(len(Abstract_list))\n",
        "\n",
        "print(len(Author))\n",
        "print(len(Pmid))"
      ]
    },
    {
      "cell_type": "code",
      "execution_count": 31,
      "metadata": {
        "colab": {
          "base_uri": "https://localhost:8080/"
        },
        "id": "N9S02jrhWb_Q",
        "outputId": "25f46775-9bae-47b0-a394-a7b9b3147e34"
      },
      "outputs": [
        {
          "output_type": "stream",
          "name": "stdout",
          "text": [
            "1907 1907 1907 1907\n"
          ]
        }
      ],
      "source": [
        "print(counter_title,counter_pmid,counter_author,counter_abstract)"
      ]
    },
    {
      "cell_type": "code",
      "source": [
        "from google.colab import drive\n",
        "drive.mount('/content/drive')"
      ],
      "metadata": {
        "id": "GMNTMdu7zvFh"
      },
      "execution_count": null,
      "outputs": []
    },
    {
      "cell_type": "code",
      "execution_count": 43,
      "metadata": {
        "id": "MKeZ--1hJPx_"
      },
      "outputs": [],
      "source": [
        "df=pd.DataFrame({\"Title\": Title_list, \"Author\": Author,  \"PMID\": Pmid,\"Abstract\": Abstract_list })\n",
        "\n",
        "df.to_csv(\"/content/sample_data/2018_pub_med.csv\")"
      ]
    }
  ],
  "metadata": {
    "colab": {
      "provenance": []
    },
    "kernelspec": {
      "display_name": "Python 3",
      "language": "python",
      "name": "python3"
    },
    "language_info": {
      "codemirror_mode": {
        "name": "ipython",
        "version": 3
      },
      "file_extension": ".py",
      "mimetype": "text/x-python",
      "name": "python",
      "nbconvert_exporter": "python",
      "pygments_lexer": "ipython3",
      "version": "3.9.13"
    }
  },
  "nbformat": 4,
  "nbformat_minor": 0
}