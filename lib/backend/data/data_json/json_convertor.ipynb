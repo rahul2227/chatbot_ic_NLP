{
 "cells": [
  {
   "cell_type": "code",
   "execution_count": 1,
   "metadata": {},
   "outputs": [],
   "source": [
    "# File imports\n",
    "import csv\n",
    "import json"
   ]
  },
  {
   "cell_type": "code",
   "execution_count": 2,
   "metadata": {},
   "outputs": [],
   "source": [
    "# Function to convert csv to json data\n",
    "\n",
    "def csv_to_json(csv_file_path, json_file_path):\n",
    "    # Initialize an empty list to store dictionaries\n",
    "    data = []\n",
    "\n",
    "    # Open CSV file and read data into a list of dictionaries\n",
    "    with open(csv_file_path, 'r', newline='', encoding='utf-8') as csvfile:\n",
    "        reader = csv.DictReader(csvfile)\n",
    "        for row in reader:\n",
    "            # Convert PMID to integer\n",
    "            row['PMID'] = int(row['PMID'])\n",
    "            # Append the dictionary to the data list\n",
    "            data.append(row)\n",
    "\n",
    "    # Write the data list to a JSON file\n",
    "    with open(json_file_path, 'w', encoding='utf-8') as jsonfile:\n",
    "        json.dump(data, jsonfile, ensure_ascii=False, indent=4)"
   ]
  },
  {
   "cell_type": "code",
   "execution_count": 3,
   "metadata": {},
   "outputs": [],
   "source": [
    "# Test for 2013 data\n",
    "\n",
    "# the path to your CSV file\n",
    "csv_file_path = \"G:/All Flutter Applications/NLP with transformers project/chatbot_ic/lib/backend/data/data_csv/2013_pub_med.csv\"  \n",
    "\n",
    "# the desired path for the JSON output file\n",
    "json_file_path = \"G:/All Flutter Applications/NLP with transformers project/chatbot_ic/lib/backend/data/data_json/2013_pub_med_test.json\"  \n",
    "\n",
    "\n",
    "csv_to_json(csv_file_path, json_file_path)"
   ]
  },
  {
   "cell_type": "code",
   "execution_count": 4,
   "metadata": {},
   "outputs": [],
   "source": [
    "# 2014 data\n",
    "\n",
    "# the path to your CSV file\n",
    "csv_file_path = \"G:/All Flutter Applications/NLP with transformers project/chatbot_ic/lib/backend/data/data_csv/2014_pub_med.csv\"  \n",
    "\n",
    "# the desired path for the JSON output file\n",
    "json_file_path = \"G:/All Flutter Applications/NLP with transformers project/chatbot_ic/lib/backend/data/data_json/2014pubmed.json\"  \n",
    "\n",
    "\n",
    "csv_to_json(csv_file_path, json_file_path)"
   ]
  },
  {
   "cell_type": "code",
   "execution_count": 5,
   "metadata": {},
   "outputs": [],
   "source": [
    "# 2015 data\n",
    "\n",
    "# the path to your CSV file\n",
    "csv_file_path = \"G:/All Flutter Applications/NLP with transformers project/chatbot_ic/lib/backend/data/data_csv/2015_pub_med.csv\"  \n",
    "\n",
    "# the desired path for the JSON output file\n",
    "json_file_path = \"G:/All Flutter Applications/NLP with transformers project/chatbot_ic/lib/backend/data/data_json/2015pubmed.json\"  \n",
    "\n",
    "\n",
    "csv_to_json(csv_file_path, json_file_path)"
   ]
  },
  {
   "cell_type": "code",
   "execution_count": 6,
   "metadata": {},
   "outputs": [],
   "source": [
    "# 2016-17 data\n",
    "\n",
    "# the path to your CSV file\n",
    "csv_file_path = \"G:/All Flutter Applications/NLP with transformers project/chatbot_ic/lib/backend/data/data_csv/2016-2017_pub_med.csv\"  \n",
    "\n",
    "# the desired path for the JSON output file\n",
    "json_file_path = \"G:/All Flutter Applications/NLP with transformers project/chatbot_ic/lib/backend/data/data_json/2016-17pubmed.json\"  \n",
    "\n",
    "\n",
    "csv_to_json(csv_file_path, json_file_path)"
   ]
  },
  {
   "cell_type": "code",
   "execution_count": null,
   "metadata": {},
   "outputs": [],
   "source": []
  }
 ],
 "metadata": {
  "kernelspec": {
   "display_name": "nlp",
   "language": "python",
   "name": "python3"
  },
  "language_info": {
   "codemirror_mode": {
    "name": "ipython",
    "version": 3
   },
   "file_extension": ".py",
   "mimetype": "text/x-python",
   "name": "python",
   "nbconvert_exporter": "python",
   "pygments_lexer": "ipython3",
   "version": "3.11.6"
  }
 },
 "nbformat": 4,
 "nbformat_minor": 2
}
