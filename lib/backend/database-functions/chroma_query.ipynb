{
 "cells": [
  {
   "cell_type": "code",
   "execution_count": 14,
   "metadata": {},
   "outputs": [],
   "source": [
    "# imports\n",
    "\n",
    "import chromadb\n",
    "from chromadb.utils import embedding_functions"
   ]
  },
  {
   "cell_type": "code",
   "execution_count": 15,
   "metadata": {},
   "outputs": [],
   "source": [
    "## Terminal command to start a local host server\n",
    "## chroma run --path \"G:/All Flutter Applications/NLP with transformers project/chatbot_ic/lib/backend/data/chroma_data\"\n",
    "\n",
    "## instantiate chroma client\n",
    "chroma_client = chromadb.HttpClient(host=\"localhost\", port=8000)"
   ]
  },
  {
   "cell_type": "code",
   "execution_count": 16,
   "metadata": {},
   "outputs": [],
   "source": [
    "## access 2013 collection\n",
    "collection_2013 = chroma_client.get_collection('2013pubmed')"
   ]
  },
  {
   "cell_type": "code",
   "execution_count": 17,
   "metadata": {},
   "outputs": [
    {
     "name": "stdout",
     "output_type": "stream",
     "text": [
      "CASK Disorders\n",
      "PMID: 24278995\n",
      "Author: Ute Moog\n",
      "CASK Disorders<SEP>Clinical characteristics: CASK disorders include a spectrum of phenotypes in both females and males. Two main types of clinical presentation are seen: Microcephaly with pontine and cerebellar hypoplasia (MICPCH), generally associated with pathogenic loss-of-function variants in CASKX-linked intellectual disability (XLID) with or without nystagmus, generally associated with hypomorphic CASK pathogenic variants MICPCH is typically seen in females with moderate-to-severe intellectual disability, progressive microcephaly with or without ophthalmologic anomalies, and sensorineural hearing loss. Most are able to sit independently; 20%-25% attain the ability to walk; language is nearly absent in most. Neurologic features may include axial hypotonia, hypertonia/spasticity of the extremities, and dystonia or other movement disorders. Nearly 40% have seizures by age ten years. Behaviors may include sleep disturbances, hand stereotypies, and self biting. MICPCH in males may occur with or without severe epileptic encephalopathy in addition to severe-to-profound developmental delay. When seizures are present they occur early and may be intractable. In individuals and families with milder (i.e., hypomorphic) pathogenic variants, the clinical phenotype is usually that of XLID with or without nystagmus and additional clinical features. Males have mild-to-severe intellectual disability, with or without nystagmus and other ocular features. Females typically have normal intelligence with some displaying mild-to-severe intellectual disability with or without ocular features. Diagnosis/testing: The diagnosis of a CASK disorder is established in a female who is heterozygous for a CASK pathogenic variant and in a male who is hemizygous for a CASK pathogenic variant on molecular genetic testing. Rarely, affected males have a mosaic pathogenic variant. Management: Treatment of manifestations: Treatment is symptomatic and includes standard management of developmental delay and intellectual disability issues; medication for seizures; nutritional support; use of physiotherapy; and treatment of abnormal vision or hearing loss. Genetic counseling: CASK disorders are inherited in an X-linked manner. Risk to the family members of a proband with a CASK disorder depends on the phenotype (i.e., MICPCH or XLID ± nystagmus) in the proband. MICPCH. Most affected females and males represent simplex cases (i.e., the only affected family member) and have the disorder as the result of a de novo CASK pathogenic variant. Because heterozygous females manifest the phenotype, an asymptomatic mother is unlikely to be heterozygous for the CASK pathogenic variant. If a proband represents a simplex case, the recurrence risk to sibs appears to be low but greater than that of the general population because of the possibility of parental germline mosaicism.XLID ± nystagmus. The father of a male with a CASK disorder will not have the disorder nor will he be hemizygous for the CASK pathogenic variant. If a male is the only affected family member, the mother may be a heterozygote or the affected male may have a de novo pathogenic variant. In a family with more than one affected individual, the mother of an affected male is an obligate heterozygote. If the mother of the proband has a CASK pathogenic variant, the chance of transmitting it in each pregnancy is 50%: males who inherit the pathogenic variant will be affected; females who inherit the pathogenic variant will typically be asymptomatic but may have a range of manifestations. If the CASK pathogenic variant cannot be detected in maternal leukocyte DNA, the risk to sibs is greater than that of the general population because of the possibility of parental germline mosaicism. Once the CASK pathogenic variant has been identified in an affected family member, prenatal testing for a pregnancy at increased risk and preimplantation genetic testing for a CASK disorder are possible.\n",
      "Similarity Score: 0.27137768268585205\n",
      "---------------\n",
      "PMID: 23913778\n",
      "Author: Albert Schinzel\n",
      "Long-term follow-up of four patients with Langer-Giedion syndrome: clinical course and complications<SEP>Long-term observations of individuals with the so-called Langer-Giedion (LGS) or tricho-rhino-phalangeal type II (TRPS2) are scarce. We report here a on follow-up of four LGS individuals, including one first described by Andres Giedion in 1969, and review the sparse publications on adults with this syndrome which comprises ectodermal dysplasia, multiple cone-shaped epiphyses prior to puberty, multiple cartilaginous exostoses, and mostly mild intellectual impairment. LGS is caused by deletion of the chromosomal segment 8q24.11-q24.13 containing among others the genes EXT1 and TRPS1. Most patients with TRPS2 are only borderline or mildly cognitively delayed, and few are of normal intelligence. Their practical skills are better than their intellectual capability, and, for this reason and because of their low self-esteem, they are often underestimated. Some patients develop seizures at variable age. Osteomas on processes of cervical vertebrae may cause pressure on cervical nerves or dissection of cerebral arteries. Joint stiffness is observed during childhood and changes later to joint laxity causing instability and proneness to trauma. Perthes disease is not rare. Almost all males become bald at or soon after puberty, and some develop (pseudo) gynecomastia. Growth hormone deficiency was found in a few patients, TSH deficiency so far only in one. Puberty and fertility are diminished, and no instance of transmission of the deletion from a non-mosaic parent to a child has been observed so far. Several affected females had vaginal atresia with consequent hydrometrocolpos.\n",
      "Similarity Score: 0.5968833565711975\n",
      "---------------\n",
      "PMID: 23985797\n",
      "Author: Ayumi Matsumoto\n",
      "An Xp22.12 microduplication including RPS6KA3 identified in a family with variably affected intellectual and behavioral disabilities<SEP>The ribosomal protein S6 kinase, 90 kb, polypeptide 3 gene (RPS6KA3) is responsible for Coffin-Lowry syndrome (CLS), which is characterized by intellectual disability (ID) and facial and bony abnormalities. This gene also affects nonsyndromic X-linked ID and nonsyndromic X-linked ID without bony abnormalities. Two families have been previously reported to have genetic microduplication including RPS6KA3. In the present study, we used array-comparative genomic hybridization (CGH) analysis with Agilent Human genome CGH 180K and detected a 584-kb microduplication spanning 19.92-20.50 Mb of Xp22.12 (including RPS6KA3) in the members of one family, including three brothers, two sisters, and their mother. The 15-year-old male proband and one of his brothers had mild ID and localization-related epilepsy, whereas his other brother presented borderline intelligence quotient (IQ) and attention-deficit-hyperactivity disorder (ADHD). One sister presented pervasive development disorder (PDD). Analysis of this family suggests that RPS6KA3 duplication is responsible for mild ID, ADHD, and localization-related epilepsy, and possibly for PDD.\n",
      "Similarity Score: 0.598068356513977\n",
      "---------------\n",
      "PMID: 24183735\n",
      "Author: Gabriella Di Rosa\n",
      "Role of plasma homocysteine levels and MTHFR polymorphisms on IQ scores in children and young adults with epilepsy treated with antiepileptic drugs<SEP>Homocysteine (Hcy) is a sulfur-containing amino acid involved in methionine metabolism. High plasma total Hcy (tHcy) has been quite frequently reported in patients with epilepsy treated with antiepileptic drugs (AEDs) mainly related to plasma folate reduction induced by AEDs themselves. The role of C677T and A1298C polymorphisms of methylenetetrahydrofolate reductase gene (MTHFR) on the increase of plasma tHcy in patients with epilepsy taking AEDs is still controversial. Cognitive impairment may be associated with epilepsy either as the result of the epileptic syndrome per se or as a side effect induced by the AEDs. High plasma tHcy levels were associated with lower cognitive performances in patients affected by Alzheimer's disease and mild cognitive impairment and in healthy elderly. We searched for a correlation between plasma tHcy levels with the intelligence quotient (IQ) scores in a population of children and young adults with epilepsy treated with old and/or newer AEDs. The study group encompassed 179 patients (92 M, 51.5%) followed at our Unit of Child Neuropsychiatry and aged between 4 and 25years (mean+SD: 14.03±4.25). The inclusion criteria included the following: 1) diagnosis of epilepsy of \"unknown cause\" (cryptogenic) according to the ILAE classification, 2) age older than 3years, 3) stabilized antiepileptic treatment for at least 6months, and 4) clinical records of cognitive tests, plasma tHcy value, and results of MTHFR polymorphisms. Patients' mean tHcy value was 9.71±3.13μM/L (tHcy<9μM/L as our laboratory cutoff in nonepileptic controls). The mean TIQ score was 85.22 (SD±24.12); the mean VIQ score was 86.32 (SD±20.86); and the mean PIQ score was 86.94 (SD±21.51). C677T and A1298C MTHFR polymorphisms were detected in 74/92 (80%) examined patients and distributed into the following: CT (22.3%), TT (14.9%), CC (10.3%) for C677T, AC (16%), CC (1.1%), and AA (30.3%) for A1298C. Plasma tHcy levels were not significantly related to the IQ scores (TIQ, VIQ, or PIQ). Two significant findings came out. First, patients on AED polytherapy showed significantly lower TIQ, VIQ, and PIQ scores compared with the ones with AED monotherapy (p=0.032; p=0.008; p=0.005, respectively). However, this significant difference was not observed with the plasma tHcy levels compared with AED treatment. Second, patients with the 677TT genotype showed significantly higher tHcy levels versus those with the wt ones (p=0.049). In the latter group of patients, although the mean TIQ score was lower compared with the mean TIQ score in those with the wt ones, the difference only approached statistical significance (p=0.056). To our knowledge, this is the first study investigating the relationship between tHcy levels and cognitive scores in children with epilepsy treated with AEDs. Analysis of wider samples, selective neuropsychological tests, and prospective recruitment of patients might be encouraged.\n",
      "Similarity Score: 0.6260478496551514\n",
      "---------------\n",
      "PMID: 24185090\n",
      "Author: S Chatziioannidis\n",
      "Psychotic symptoms in normal pressure hydrocephalus<SEP>Normal Pressure Hydrocephalus due to idiopathic aqueductal stenosis is a chronic abnormal accumulation of cerebrospinal fluid in the cerebral ventricles caused by an obstruction in the Sylvian aqueduct. This leads to a dilatation of the ventricular system and to subsequent damage of the adjacent parenchyma. Although NPH typically presents with the progressive 'triad' of cognitive impairment, gait disturbance and urinary incontinence, it has been described that it rarely manifests in the form of predominant psychotic symptoms. It has been suggested that thought and perceptual disorders could develop secondary to the damage caused by NPH. Although precise anatomical correlates have not yet been established, certain cerebral regions -primarily the frontal cortex, mesencephalic and diencephalic structures of the brain- have been implicated in the pathogenesis of hydrocephalic psychosis. Because frontal lobe lesions are traditionally known to facilitate one's inability to integrate and correct perceptual distortions in the face of contradictory evidence, frontal lobe dysfunction may be integral in delineating the etiology of delusions in NPH. We present the case of a 30-year-old female, admitted involuntarily to our acute psychiatric department because she exhibited aggressive behavior while being in an agitated state with delusions of persecution. Her neurological examination disclosed subtle bradykinesia. Neuropsychological batteries and intelligence testing revealed mild cognitive impairment and a CT scan showed considerable dilatation of the ventricular system due to idiopathic aqueductal stenosis. While a conservative approach was chosen for the treatment of NPH, our patient was initiated on 2nd generation antipsychotics showing marked improvement of her psychiatric symptomatology. The atypical presentation of hydrocephalus in the aforementioned case underlines the necessity to thoroughly investigate the possible presence of an underlying organic factor in those patients who present with predominant psychotic symptoms in association with soft non-localising neurological signs and mild cognitive deficits. Furthermore, our patient's marked improvement indicates that, in cases where the primary cause is treated conservatively, hydrocephalic psychosis could respond to 2nd generation antipsychotics. In light of this case report, we reviewed past and present literature on the matter.\n",
      "Similarity Score: 0.6448869109153748\n",
      "---------------\n"
     ]
    }
   ],
   "source": [
    "from sentence_transformers import SentenceTransformer, util\n",
    "\n",
    "sentence_transformer_ef = embedding_functions.SentenceTransformerEmbeddingFunction(model_name=\"multi-qa-MiniLM-L6-cos-v1\", normalize_embeddings=True)\n",
    "\n",
    "# User's question\n",
    "user_question = 'CASK Disorders'\n",
    "\n",
    "# Embed the user's question\n",
    "user_question_embedding = sentence_transformer_ef([user_question])[0]\n",
    "\n",
    "search_results = collection_2013.query(query_embeddings=[user_question_embedding], n_results=5)\n",
    "print(user_question)\n",
    "# Print the search results\n",
    "for i, result in enumerate(search_results['ids'][0]):\n",
    "    document_id = result\n",
    "    metadata = search_results['metadatas'][0][i]  # Access the corresponding metadata\n",
    "    similarity_score = search_results['distances'][0][i]  # Access the corresponding similarity score\n",
    "    document = search_results['documents'][0][i]  # Access the corresponding document\n",
    "\n",
    "    print(f\"PMID: {document_id}\")\n",
    "    # print(f\"Title: {metadata['title']}\")\n",
    "    print(f\"Author: {metadata['author']}\")\n",
    "    print(document)\n",
    "    print(f\"Similarity Score: {similarity_score}\")\n",
    "    print(\"---------------\")\n"
   ]
  },
  {
   "cell_type": "code",
   "execution_count": 18,
   "metadata": {},
   "outputs": [
    {
     "data": {
      "text/plain": [
       "[Collection(name=2014pubmed),\n",
       " Collection(name=2015pubmed),\n",
       " Collection(name=2016-17pubmed),\n",
       " Collection(name=2013pubmed)]"
      ]
     },
     "execution_count": 18,
     "metadata": {},
     "output_type": "execute_result"
    }
   ],
   "source": [
    "chroma_client.list_collections()"
   ]
  },
  {
   "cell_type": "code",
   "execution_count": null,
   "metadata": {},
   "outputs": [],
   "source": []
  }
 ],
 "metadata": {
  "kernelspec": {
   "display_name": "nlp",
   "language": "python",
   "name": "python3"
  },
  "language_info": {
   "codemirror_mode": {
    "name": "ipython",
    "version": 3
   },
   "file_extension": ".py",
   "mimetype": "text/x-python",
   "name": "python",
   "nbconvert_exporter": "python",
   "pygments_lexer": "ipython3",
   "version": "3.11.6"
  }
 },
 "nbformat": 4,
 "nbformat_minor": 2
}
