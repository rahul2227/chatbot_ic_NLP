{
 "cells": [
  {
   "cell_type": "code",
   "execution_count": null,
   "metadata": {},
   "outputs": [],
   "source": [
    "# Make an environment using relevant requirements.txt to satisfy all of the requirements"
   ]
  },
  {
   "cell_type": "code",
   "execution_count": 1,
   "metadata": {},
   "outputs": [],
   "source": [
    "# Imports for the code\n",
    "\n",
    "import json\n",
    "import chromadb\n",
    "from chromadb.config import Settings\n",
    "from chromadb import EmbeddingFunction\n",
    "from chromadb.utils import embedding_functions"
   ]
  },
  {
   "cell_type": "markdown",
   "metadata": {},
   "source": [
    "### Test Code for creating chroma collections"
   ]
  },
  {
   "cell_type": "code",
   "execution_count": null,
   "metadata": {},
   "outputs": [],
   "source": [
    "# Here we are reading our dataset file\n",
    "\n",
    "# Specify the path to your JSON file\n",
    "json_file_path = \"G:/All Flutter Applications/NLP with transformers project/chatbot_ic/lib/backend/data/data_json/2013pubmed.json\"\n",
    "\n",
    "# Open the JSON file and load the data\n",
    "with open(json_file_path, 'r') as json_file:\n",
    "    dataset = json.load(json_file)\n",
    "\n",
    "# Print the loaded dataset\n",
    "print(len(dataset))"
   ]
  },
  {
   "cell_type": "code",
   "execution_count": null,
   "metadata": {},
   "outputs": [],
   "source": [
    "persistence_database_path_windows = \"chatbot_ic/lib/backend/data/chroma_data\"\n",
    "\n",
    "## Creating client instance of chroma db\n",
    "# client = chromadb.PersistentClient(path=\"G:/All Flutter Applications/NLP with transformers project/chatbot_ic/lib/backend/data/chroma_data\", se)\n",
    "client = chromadb.Client(settings=Settings(persist_directory=persistence_database_path_windows, allow_reset=True))\n",
    "\n",
    "## Initialising a sentence transformer for chromadb \n",
    "sentence_transformer_ef = embedding_functions.SentenceTransformerEmbeddingFunction(model_name=\"multi-qa-MiniLM-L6-cos-v1\", normalize_embeddings=True)\n",
    "collection_2013 = client.create_collection(\"2013pubmed\", embedding_function=sentence_transformer_ef, metadata={\"hnsw:space\": \"cosine\"})\n",
    "# Extract data from the dataset and store it in the collection\n",
    "# collection_2013.add(\n",
    "#     ids=[str(entry['PMID']) for entry in dataset],\n",
    "#     documents=[entry['Abstract'] for entry in dataset],\n",
    "#     metadatas=[\n",
    "#         {'title': entry['Title'], 'author': entry['Author']} for entry in dataset\n",
    "#     ],\n",
    "# )\n",
    "\n",
    "## adding data to chroma db\n",
    "collection_2013.add(\n",
    "    ids=[str(entry['PMID']) for entry in dataset],\n",
    "    documents=[entry['Title'] + \"<SEP>\" + entry['Abstract'] for entry in dataset],\n",
    "    metadatas=[\n",
    "        {'author': entry['Author']} for entry in dataset\n",
    "    ],\n",
    ")"
   ]
  },
  {
   "cell_type": "markdown",
   "metadata": {},
   "source": [
    "### Function for creating collections of all the available data"
   ]
  },
  {
   "cell_type": "code",
   "execution_count": 2,
   "metadata": {},
   "outputs": [],
   "source": [
    "# Function to create multiple collections\n",
    "persistence_database_path_windows = \"G:/All Flutter Applications/NLP with transformers project/chatbot_ic/lib/backend/data/chroma_data\"\n",
    "client = chromadb.PersistentClient(path=persistence_database_path_windows, settings=Settings(allow_reset=True))\n",
    "\n",
    "def create_chroma_collections(years):\n",
    "    \n",
    "    sentence_transformer_ef = embedding_functions.SentenceTransformerEmbeddingFunction(model_name=\"multi-qa-MiniLM-L6-cos-v1\", normalize_embeddings=True)\n",
    "    \n",
    "    for year in years:\n",
    "        # Specify the path to your JSON file\n",
    "        json_file_path = f\"G:/All Flutter Applications/NLP with transformers project/chatbot_ic/lib/backend/data/data_json/{year}pubmed.json\"\n",
    "\n",
    "        # Open the JSON file and load the data\n",
    "        with open(json_file_path, 'r') as json_file:\n",
    "            dataset = json.load(json_file)\n",
    "            \n",
    "        collection = client.create_collection(f\"{year}pubmed\", embedding_function=sentence_transformer_ef, metadata={\"hnsw:space\": \"cosine\"})\n",
    "        \n",
    "        collection.add(\n",
    "            ids=[str(entry['PMID']) for entry in dataset],\n",
    "            documents=[entry['Title'] + \"<SEP>\" + entry['Abstract'] for entry in dataset],\n",
    "            metadatas=[\n",
    "                {'author': entry['Author']} for entry in dataset\n",
    "            ],\n",
    "        )"
   ]
  },
  {
   "cell_type": "code",
   "execution_count": 3,
   "metadata": {},
   "outputs": [],
   "source": [
    "years = ['2013', '2014', '2015', '2016-17']\n",
    "\n",
    "create_chroma_collections(years=years)"
   ]
  },
  {
   "cell_type": "code",
   "execution_count": 4,
   "metadata": {},
   "outputs": [
    {
     "data": {
      "text/plain": [
       "[Collection(name=2014pubmed),\n",
       " Collection(name=2015pubmed),\n",
       " Collection(name=2016-17pubmed),\n",
       " Collection(name=2013pubmed)]"
      ]
     },
     "execution_count": 4,
     "metadata": {},
     "output_type": "execute_result"
    }
   ],
   "source": [
    "client.list_collections()"
   ]
  },
  {
   "cell_type": "code",
   "execution_count": 5,
   "metadata": {},
   "outputs": [],
   "source": [
    "# client.delete_collection('2013pubmed')\n",
    "# client.reset()"
   ]
  }
 ],
 "metadata": {
  "kernelspec": {
   "display_name": "nlp",
   "language": "python",
   "name": "python3"
  },
  "language_info": {
   "codemirror_mode": {
    "name": "ipython",
    "version": 3
   },
   "file_extension": ".py",
   "mimetype": "text/x-python",
   "name": "python",
   "nbconvert_exporter": "python",
   "pygments_lexer": "ipython3",
   "version": "3.11.6"
  }
 },
 "nbformat": 4,
 "nbformat_minor": 2
}
