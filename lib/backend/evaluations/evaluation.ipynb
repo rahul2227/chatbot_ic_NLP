{
 "cells": [
  {
   "cell_type": "code",
   "execution_count": 1,
   "metadata": {},
   "outputs": [
    {
     "data": {
      "text/plain": [
       "False"
      ]
     },
     "execution_count": 1,
     "metadata": {},
     "output_type": "execute_result"
    }
   ],
   "source": [
    "import numpy as np\n",
    "from openai import AsyncOpenAI\n",
    "import os\n",
    "from langchain.chains import LLMChain\n",
    "from langchain.prompts import PromptTemplate\n",
    "from langchain_openai import OpenAI\n",
    "from getpass import getpass\n",
    "import json\n",
    "import traceback\n",
    "import time\n",
    "import asyncio\n",
    "from dotenv import load_dotenv\n",
    "\n",
    "load_dotenv()"
   ]
  },
  {
   "cell_type": "code",
   "execution_count": 2,
   "metadata": {},
   "outputs": [
    {
     "name": "stdout",
     "output_type": "stream",
     "text": [
      "Enter your OpenAI API key:\n"
     ]
    }
   ],
   "source": [
    "# Check if OPENAI_API_KEY environment variable is set\n",
    "if \"OPENAI_API_KEY\" not in os.environ:\n",
    "    print(\"Enter your OpenAI API key:\")\n",
    "    os.environ[\"OPENAI_API_KEY\"] = getpass()\n",
    "\n",
    "# evaluator setup\n",
    "# openai.api_key = os.environ.get(\"OPENAI_API_KEY\")\n",
    "OPENAI_API_KEY = os.environ.get(\"OPENAI_API_KEY\")\n",
    "# openai.api_base = os.environ.get(\"OPENAI_API_BASE\")\n",
    "evaluator_model = \"gpt-4-1106-preview\""
   ]
  },
  {
   "cell_type": "code",
   "execution_count": 3,
   "metadata": {},
   "outputs": [],
   "source": [
    "llm = OpenAI(api_key=OPENAI_API_KEY)\n",
    "# llm = AsyncOpenAI(api_key=OPENAI_API_KEY)\n",
    "# llm = OpenAI()"
   ]
  },
  {
   "cell_type": "code",
   "execution_count": 4,
   "metadata": {},
   "outputs": [
    {
     "name": "stdout",
     "output_type": "stream",
     "text": [
      "How do sedentary living and a high-sugar diet contribute to type 2 diabetes development?\n"
     ]
    }
   ],
   "source": [
    "# get question\n",
    "question_ind = np.random.choice(60)\n",
    "question_data = json.load(open(\"/Users/vasu/Desktop/NLP /project/chatbot_ic_NLP/lib/backend/evaluations/evaluation_ques.json\", \"r\"))[question_ind]\n",
    "user_question = question_data[\"question\"]\n",
    "print(user_question)"
   ]
  },
  {
   "cell_type": "code",
   "execution_count": 5,
   "metadata": {},
   "outputs": [
    {
     "name": "stderr",
     "output_type": "stream",
     "text": [
      "/Users/vasu/.pyenv/versions/3.10.0/lib/python3.10/site-packages/tqdm/auto.py:21: TqdmWarning: IProgress not found. Please update jupyter and ipywidgets. See https://ipywidgets.readthedocs.io/en/stable/user_install.html\n",
      "  from .autonotebook import tqdm as notebook_tqdm\n"
     ]
    }
   ],
   "source": [
    "# imports\n",
    "import warnings\n",
    "\n",
    "# Suppress TypedStorage deprecation warning\n",
    "warnings.filterwarnings(\"ignore\", category=UserWarning, message=\"TypedStorage is deprecated.*\")\n",
    "warnings.filterwarnings(\"ignore\", category=UserWarning, message=\"LangChainDeprecationWarning: The function `run` was deprecated.*\")\n",
    "\n",
    "\n",
    "import chromadb\n",
    "from chromadb.utils import embedding_functions\n",
    "\n",
    "import json\n",
    "import chromadb\n",
    "from chromadb.config import Settings\n",
    "from chromadb import EmbeddingFunction\n",
    "from chromadb.utils import embedding_functions\n",
    "from sentence_transformers import SentenceTransformer\n",
    "from langchain_openai import OpenAI\n",
    "from langchain.chains import LLMChain\n",
    "from langchain.prompts import PromptTemplate\n"
   ]
  },
  {
   "cell_type": "code",
   "execution_count": 6,
   "metadata": {},
   "outputs": [],
   "source": [
    "def get_context_with_max_similarity(user_question):\n",
    "    # Initialize SentenceTransformer model\n",
    "    sentence_transformer_ef = embedding_functions.SentenceTransformerEmbeddingFunction(model_name=\"all-MiniLM-L12-v2\", normalize_embeddings=True)\n",
    "\n",
    "    # Embed the user's question\n",
    "    user_question_embedding = sentence_transformer_ef([user_question])[0]\n",
    "\n",
    "    # Perform the query using Chroma\n",
    "    search_results = collection_whole.query(query_embeddings=[user_question_embedding], n_results=5)\n",
    "\n",
    "    # Find the index of the context with the maximum similarity score\n",
    "    max_similarity_index = search_results['distances'][0].index(max(search_results['distances'][0]))\n",
    "\n",
    "    # Get the context with the maximum similarity score\n",
    "    context_with_max_similarity = search_results['documents'][0][max_similarity_index]\n",
    "\n",
    "    return context_with_max_similarity\n",
    "\n",
    "chroma_internet_client = chromadb.HttpClient(host='16.171.68.145', port=8000, settings=Settings(allow_reset=True))\n",
    "\n",
    "collection_whole = chroma_internet_client.get_collection('pubmed_whole')"
   ]
  },
  {
   "cell_type": "code",
   "execution_count": 7,
   "metadata": {},
   "outputs": [
    {
     "name": "stderr",
     "output_type": "stream",
     "text": [
      "/Users/vasu/.pyenv/versions/3.10.0/lib/python3.10/site-packages/langchain_core/_api/deprecation.py:117: LangChainDeprecationWarning: The function `run` was deprecated in LangChain 0.1.0 and will be removed in 0.2.0. Use invoke instead.\n",
      "  warn_deprecated(\n"
     ]
    },
    {
     "name": "stdout",
     "output_type": "stream",
     "text": [
      "Question:  How do sedentary living and a high-sugar diet contribute to type 2 diabetes development?\n",
      "Answer:  \n",
      "There are several factors that can contribute to the development of type 2 diabetes, including sedentary living and a high-sugar diet. Sedentary living refers to a lifestyle that involves little to no physical activity, while a high-sugar diet consists of consuming excessive amounts of sugary foods and beverages.\n",
      "\n",
      "These lifestyle choices can lead to an increase in blood glucose levels, which can eventually lead to insulin resistance and the development of type 2 diabetes. Insulin resistance occurs when the body's cells become less responsive to insulin, the hormone responsible for regulating blood sugar levels. This can result in elevated blood sugar levels and, over time, can lead to a diagnosis of type 2 diabetes.\n",
      "\n",
      "Additionally, sedentary living and a high-sugar diet can also contribute to other health issues, such as cardiovascular disease and obesity, which are risk factors for developing type 2 diabetes. Therefore, it is important to maintain a healthy lifestyle and monitor blood sugar levels to prevent the development of type 2 diabetes.\n",
      "\n",
      "Furthermore, recent advancements in artificial intelligence and mathematical modeling have allowed for the identification of different glucose trajectories, providing insights into the progression of diabetes and potential avenues for further investigation. Protein glycation biomarkers, such as glycated hemoglobin (A1C) and glyc\n"
     ]
    }
   ],
   "source": [
    "import os\n",
    "os.environ[\"TOKENIZERS_PARALLELISM\"] = \"false\"\n",
    "\n",
    "QUERY_PROMPT_MODEL = PromptTemplate(\n",
    "    input_variables=[\"context\"],\n",
    "    template=\"\"\"\n",
    "You are an AI language model assistant. Your task is to generate answer\n",
    "    by taking information from the relevant context provided from a vector \n",
    "    database. By considering multiple perspectives on the user question, your goal is to help\n",
    "    the user understand the concept of the question asked that is also relevant to the context provided. \n",
    "    Provide these answers with proper type setting.\n",
    "\n",
    "    Original question: {question}\n",
    "    Context : {context}\n",
    "\"\"\",)\n",
    "\n",
    "MULTI_QUERY_PROMPT_MODEL = PromptTemplate(\n",
    "    input_variables=[\"context\"],\n",
    "    template=\"\"\"You are an AI language model assistant. Your task is to generate questions based on the provided context. \n",
    "    Generate list of 3 questions that help to explore different aspects of the context and deepen the understanding of the topic. \n",
    "    Provide these questions with proper type setting.\n",
    "\n",
    "    \n",
    "    Context : {context}\n",
    "\"\"\",)\n",
    "\n",
    "\n",
    "# Initialize the LLMChain\n",
    "\n",
    "llm_chain_multi_query= LLMChain(prompt=MULTI_QUERY_PROMPT_MODEL, llm=llm)\n",
    "llm_chain_answer = LLMChain(prompt=QUERY_PROMPT_MODEL, llm=llm)\n",
    "\n",
    "def generate_questions(context):\n",
    "    # Generate questions based on the provided context\n",
    "    generated_questions = llm_chain_multi_query.run({'context': context})\n",
    "    \n",
    "    return generated_questions\n",
    "\n",
    "\n",
    "\n",
    "context_with_max_similarity = get_context_with_max_similarity(user_question)\n",
    "\n",
    "generated_questions = generate_questions(context_with_max_similarity)\n",
    "\n",
    "\n",
    "#FETCHING 3 questions\n",
    "\n",
    "# Split the generated questions string into a list of individual questions\n",
    "generated_questions_list = generated_questions.split('\\n')\n",
    "\n",
    "# Filter out any empty strings from the list\n",
    "generated_questions_list = [question.strip() for question in generated_questions_list if question.strip()]\n",
    "\n",
    "# Extract the first three questions from the list\n",
    "question1 = generated_questions_list[0] if len(generated_questions_list) > 0 else \"\"\n",
    "question2 = generated_questions_list[1] if len(generated_questions_list) > 1 else \"\"\n",
    "question3 = generated_questions_list[2] if len(generated_questions_list) > 2 else \"\"\n",
    "\n",
    "\n",
    "\n",
    "q1_with_max_simialrity=get_context_with_max_similarity(question1)\n",
    "q2_with_max_simialrity=get_context_with_max_similarity(question2)\n",
    "q3_with_max_simialrity=get_context_with_max_similarity(question3)\n",
    "\n",
    "\n",
    "new_context=context_with_max_similarity+q1_with_max_simialrity+q2_with_max_simialrity+q3_with_max_simialrity\n",
    "\n",
    "print(\"Question: \",user_question)\n",
    "answer = llm_chain_answer.run({'context': new_context, 'question': user_question})\n",
    "print(\"Answer: \",answer)"
   ]
  },
  {
   "cell_type": "code",
   "execution_count": 8,
   "metadata": {},
   "outputs": [],
   "source": [
    "\n",
    "import openai\n",
    "QUERY_PROMPT = f\"\"\"\n",
    "You are an AI language model assistant. Your task is to generate answer\n",
    "    by taking information from the relevant context provided from a vector \n",
    "    database. By considering multiple perspectives on the user question, your goal is to help\n",
    "    the user understand the concept of the question asked that is also relevant to the context provided. \n",
    "    Provide these answers with proper type setting.\n",
    "\n",
    "    Original question: {user_question}\n",
    "    Context : {new_context}\n",
    "\"\"\"\n",
    "\n"
   ]
  },
  {
   "cell_type": "code",
   "execution_count": 9,
   "metadata": {},
   "outputs": [
    {
     "name": "stdout",
     "output_type": "stream",
     "text": [
      "Question:  How do sedentary living and a high-sugar diet contribute to type 2 diabetes development?\n",
      "-------------------------\n",
      "Sedentary living and a high-sugar diet can contribute to the development of type 2 diabetes through various mechanisms. \n",
      "\n",
      "1. **Sedentary living:** \n",
      "   - Lack of physical activity can lead to weight gain and obesity, which are major risk factors for type 2 diabetes. \n",
      "   - Sedentary behavior can also affect insulin sensitivity, making it harder for the body to regulate blood sugar levels effectively.\n",
      "   - Regular exercise helps to maintain a healthy weight, improve insulin sensitivity, and reduce the risk of developing type 2 diabetes.\n",
      "\n",
      "2. **High-sugar diet:** \n",
      "   - Consuming excessive amounts of sugar can lead to weight gain, insulin resistance, and inflammation in the body, all of which are linked to the development of type 2 diabetes.\n",
      "   - High sugar intake can also contribute to the development of metabolic syndrome, a cluster of conditions that increase the risk of heart disease, stroke, and type 2 diabetes.\n",
      "   - A diet high in sugary beverages, processed foods, and sweets can spike blood sugar levels and lead to insulin resistance over time.\n",
      "\n",
      "In summary, adopting a sedentary lifestyle and consuming a high-sugar diet can increase the risk of developing type 2 diabetes through their effects on weight gain, insulin sensitivity, and overall metabolic health. By incorporating regular physical activity and maintaining a balanced diet low in added sugars, individuals can help reduce their risk of developing type 2 diabetes and improve their overall health.\n"
     ]
    }
   ],
   "source": [
    "\n",
    "\n",
    "print(\"Question: \",user_question)\n",
    "print(\"-------------------------\")\n",
    "for i in range(10):\n",
    "    try:\n",
    "        chat_completion = openai.chat.completions.create(\n",
    "            model=\"gpt-3.5-turbo\",\n",
    "            messages=[{\"role\": \"user\", \"content\": QUERY_PROMPT}],\n",
    "            stream=False,\n",
    "        )\n",
    "        if isinstance(chat_completion, tuple):\n",
    "            # Handle tuple response\n",
    "            print(\"Received tuple response:\", chat_completion)\n",
    "            # Optionally, retry or handle the tuple response as needed\n",
    "            continue\n",
    "\n",
    "        if isinstance(chat_completion, dict):\n",
    "            # Not stream\n",
    "            answer = chat_completion.choices[0].message.content\n",
    "        else:\n",
    "            \n",
    "            answer = chat_completion.choices[0].message.content\n",
    "        break\n",
    "    except Exception as exc:\n",
    "        print(traceback.format_exc())\n",
    "        print(exc)\n",
    "        if i != 9:\n",
    "            print(f\"Retrying... (i = {i})\")\n",
    "            time.sleep(3)\n",
    "\n",
    "print(answer)"
   ]
  },
  {
   "cell_type": "code",
   "execution_count": 10,
   "metadata": {},
   "outputs": [],
   "source": [
    "eval_prompt = f\"\"\"\n",
    "        Your task is to evaluate a student's response to a given exercise. In the exercise, the student is provided with some general context consisting of 3 titles and abstracts of medical articles.\n",
    "        The student is furthermore asked a question, which he should answer correctly making use of the provided context.\n",
    "        The exercise tests the student's abilities regarding grammar, reading comprehension and logical reasoning. The student's answer starts after the *** symbol.\n",
    "        Please provide your general assessment about the answer provided by the student (the part after the *** symbol).\n",
    "        Is it correct? Is it grammatically correct? Is it consistent with the given context?\n",
    "        Furthermore, grade the student’s answer in terms of grammar, coherence, consistency with the context and whether it is correct or not. Moreover, please provide your best guess of what the academic degree of the student might be, as reflected from the answer. Choose from possible 4 possible categories: A: no degree. B: bachelor's degree. C: master's degree. D: doctoral degree. Use the following grade format: Grammar: #/10, Coherence: #/10, Context: #/10, Correctness: #/10, where the \"#\" should be replaces by a number between 0 (worst) and 10 (best).\n",
    "        Context: {new_context}\n",
    "        Question: {user_question}\n",
    "        Answer: *** {answer}\n",
    "\"\"\""
   ]
  },
  {
   "cell_type": "code",
   "execution_count": 11,
   "metadata": {},
   "outputs": [
    {
     "name": "stdout",
     "output_type": "stream",
     "text": [
      "### Understanding How Sedentary Living and High-Sugar Diet Contribute to Type 2 Diabetes\n",
      "\n",
      "Type 2 diabetes is a multifaceted metabolic disorder characterized by elevated blood glucose levels over a prolonged period. The development of this condition is influenced by various genetic, lifestyle, and environmental factors. The provided context from scientific literature highlights several aspects of glucose metabolism and the role of monitoring in the context of diabetes management and risk assessment. To address the original question in light of the given context, let's consider the relevant concepts:\n",
      "\n",
      "#### Sedentary Living:\n",
      "- **Impact on Glucose Trajectory:** Sedentary behavior contributes to a less favorable glucose trajectory, which relates to progressive deterioration in glucose control over time, as indicated in the work by Arthur L M Swislocki. This trajectory can potentially be monitored using mathematical modeling and might be a useful predictor of type 2 diabetes development.\n",
      "- **Influence on Metabolic Parameters:** Mercedes Rigla's research suggests that incorporating data about physical activity (captured by wearable devices) into artificial intelligence models could provide insights into the impact of lifestyle on diabetes management and risk.\n",
      "- **Glucose Control and Exercise:** Robert A Vigersky's discussion on continuous glucose monitoring (CGM) implies that increased physical activity could lead to improvements in short-term glycemic control, potentially mitigated by a sedentary lifestyle.\n",
      "\n",
      "#### High-Sugar Diet:\n",
      "- **Protein Glycation:** Naila Rabbani's work on protein glycation and biomarkers points out that high-sugar diets increase glucose levels, leading to the formation of glycated hemoglobin (HbA1c) and other advanced glycation endproducts (AGEs), which are indicative of poor glycemic control and are risk factors for type 2 diabetes.\n",
      "- **Glycemic Response to Diet:** The glucose trajectory mentioned by Swislocki is also influenced by dietary patterns. A high-sugar diet can worsen the trajectory by causing frequent high glucose peaks after meals, leading to a higher risk of developing type 2 diabetes.\n",
      "- **Effects on Glycemic Biomarkers:** The increase in A1C resulting from a high-sugar diet reflects medium-term glycemic control issues and is used in the diagnosis and management of diabetes and prediabetes.\n",
      "\n",
      "### Multi-perspective Analysis:\n",
      "\n",
      "- **Biological Perspective:** A high-sugar diet can lead to chronic hyperglycemia, promoting the glycation process as described by Rabbani. Sedentary lifestyle can lead to decreased insulin sensitivity and reduced glucose uptake by muscles, exacerbating the problem of high blood glucose levels.\n",
      "- **Technological Perspective:** The integration of AI and CGM technologies discussed by Vigersky and Rigla can help to analyze the impact of lifestyle factors like sedentary living and diet on individual glycemic control, allowing for personalized diabetes management and preventive strategies.\n",
      "- **Clinical Perspective:** Understanding individual glucose trajectories is crucial not only for diagnosing diabetes but also for predicting the risk and development of complications. Using biomarkers such as A1C, as highlighted by Rabbani, can guide more precise interventions to counteract the effects of high-sugar diets and sedentary lifestyles.\n",
      "\n",
      "### Conclusion:\n",
      "The available context underscores that sedentary living and a high-sugar diet interact in complex ways to impair glucose control, contributing to the risk and development of type 2 diabetes. These factors can be monitored using biomarkers like A1C and advanced technologies such as AI models and CGM, improving our understanding and management of this chronic condition.\n"
     ]
    }
   ],
   "source": [
    "for i in range(10):\n",
    "    try:\n",
    "        chat_completion = openai.chat.completions.create(\n",
    "            model=evaluator_model,\n",
    "            messages=[{\"role\": \"user\", \"content\": QUERY_PROMPT}],\n",
    "            stream=False,\n",
    "        )\n",
    "        if isinstance(chat_completion, tuple):\n",
    "            # Handle tuple response\n",
    "            print(\"Received tuple response:\", chat_completion)\n",
    "            # Optionally, retry or handle the tuple response as needed\n",
    "            continue\n",
    "\n",
    "        if isinstance(chat_completion, dict):\n",
    "            # Not stream\n",
    "            answer = chat_completion.choices[0].message.content\n",
    "        else:\n",
    "            \n",
    "            answer = chat_completion.choices[0].message.content\n",
    "        break\n",
    "    except Exception as exc:\n",
    "        print(traceback.format_exc())\n",
    "        print(exc)\n",
    "        if i != 9:\n",
    "            print(f\"Retrying... (i = {i})\")\n",
    "            time.sleep(3)\n",
    "\n",
    "print(answer)\n"
   ]
  },
  {
   "cell_type": "code",
   "execution_count": null,
   "metadata": {},
   "outputs": [],
   "source": []
  }
 ],
 "metadata": {
  "kernelspec": {
   "display_name": "nlp",
   "language": "python",
   "name": "python3"
  },
  "language_info": {
   "codemirror_mode": {
    "name": "ipython",
    "version": 3
   },
   "file_extension": ".py",
   "mimetype": "text/x-python",
   "name": "python",
   "nbconvert_exporter": "python",
   "pygments_lexer": "ipython3",
   "version": "3.10.0"
  }
 },
 "nbformat": 4,
 "nbformat_minor": 2
}
